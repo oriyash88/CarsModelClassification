{
  "cells": [
    {
      "cell_type": "markdown",
      "metadata": {
        "id": "view-in-github",
        "colab_type": "text"
      },
      "source": [
        "<a href=\"https://colab.research.google.com/github/oriyash88/CarsModelClassification/blob/main/Transfer_Learning.ipynb\" target=\"_parent\"><img src=\"https://colab.research.google.com/assets/colab-badge.svg\" alt=\"Open In Colab\"/></a>"
      ]
    },
    {
      "cell_type": "markdown",
      "metadata": {
        "id": "6-W8kOgHZUhz"
      },
      "source": [
        "# Final Project - Basics of deep learning\n",
        "Hello dear students,<br> This is the template notebook. Please copy it into your drive.\n",
        "\n",
        "---\n",
        "<br>**Student 1:**\n",
        "\n",
        "Name: Oriya Sharabi\n",
        "\n",
        "ID: 318866076\n",
        "\n",
        "<br>  **Student 2:**\n",
        "\n",
        "Name: Noa Ben Sael\n",
        "\n",
        "ID: 208933440"
      ]
    },
    {
      "cell_type": "markdown",
      "metadata": {
        "id": "S17rzhsdZem0"
      },
      "source": [
        "<img src=\"https://storage.googleapis.com/kaggle-competitions/kaggle/20733/logos/header.png?t=2020-05-14-08-44-45\">"
      ]
    },
    {
      "cell_type": "markdown",
      "metadata": {
        "id": "buJeccWRZX26"
      },
      "source": [
        "# Utils"
      ]
    },
    {
      "cell_type": "markdown",
      "metadata": {
        "id": "52FrgSEzQYWb"
      },
      "source": [
        "## Import Libraries"
      ]
    },
    {
      "cell_type": "code",
      "execution_count": null,
      "metadata": {
        "id": "DVQDuMr52due"
      },
      "outputs": [],
      "source": [
        "%%capture\n",
        "import numpy as np\n",
        "import cv2\n",
        "import matplotlib.pyplot as plt\n",
        "import pandas as pd\n",
        "import tensorflow as tf\n",
        "from tensorflow import keras\n",
        "import tensorflow_datasets as tfds\n",
        "from keras.layers import Dense,GlobalAveragePooling2D\n",
        "from sklearn.model_selection import train_test_split\n",
        "from tensorflow.keras.applications.mobilenet import MobileNet\n",
        "from tensorflow.keras.layers import Dense, InputLayer, Conv2D, Dropout, Convolution2DTranspose, Reshape, Flatten\n",
        "from keras.preprocessing import image\n",
        "from tensorflow.keras.applications.mobilenet import preprocess_input\n",
        "from tensorflow.keras.applications.efficientnet import EfficientNetB2\n",
        "from keras.preprocessing.image import ImageDataGenerator\n",
        "from keras.models import Model\n",
        "from tensorflow.keras.optimizers import Adam\n",
        "from keras import callbacks\n",
        "from keras.utils import load_img\n",
        "from keras.layers.convolutional import Conv2D, MaxPooling2D\n",
        "from keras.models import Sequential\n",
        "from keras.layers import Dense, Activation, Flatten\n",
        "from keras.applications.vgg16 import VGG16\n",
        "!pip install -U --no-cache-dir gdown --pre\n",
        "!gdown --id 1DS_5kLbzYYzMWtp1WP3x_hxtRBhroJID\n",
        "\n",
        "# images\n",
        "!gdown --id 1zIXVoOjr5VYiOAIaSATN35VFjaLMEacW\n",
        "!gdown --id 1ZTKaxKlSgvnZQt96zXkrIwRSNdKkpvdu\n",
        "!gdown --id 1Jf50yZzhMSf-CYipunto6XU0lBy_nnib\n",
        "#the best model\n",
        "!gdown --id 1WlEfU8O_XNhopxPt-lZL-vVDlYE2c9_U"
      ]
    },
    {
      "cell_type": "markdown",
      "metadata": {
        "id": "1hxROtsyjWPW"
      },
      "source": [
        "## Dataset\n",
        "Cars196 - 196 different classes of vehicles"
      ]
    },
    {
      "cell_type": "markdown",
      "metadata": {
        "id": "IlSkIXYtYQi_"
      },
      "source": [
        "### Download Data"
      ]
    },
    {
      "cell_type": "code",
      "execution_count": null,
      "metadata": {
        "id": "pOr9XYNO4QS1"
      },
      "outputs": [],
      "source": [
        "#%%capture\n",
        "#cars196 = tfds.load('Cars196', as_supervised=True, shuffle_files=True)"
      ]
    },
    {
      "cell_type": "code",
      "source": [
        "cars_train, cars_test = tfds.load('Cars196', split=['train + test[:4041]', 'test[4041:]'])"
      ],
      "metadata": {
        "id": "3liOOQa8YhIm",
        "colab": {
          "base_uri": "https://localhost:8080/",
          "height": 332,
          "referenced_widgets": [
            "1d9f3b659fdf46aeb1cea8a908ffe56c",
            "853be28c36df41fe954b9c1686304712",
            "115e500e51154f80ad438af7434ae9b5",
            "ac3a9e154ef648aca5832ae6c6a7429c",
            "98987b9067d948c7bd69364e31811515",
            "8e15a21dad774595bf3973c847b01b22",
            "375ba8434b4441e2a7279d5f7b7e18c5",
            "30ad80b1e73547f980a729289ef75430",
            "abf7494feb9b443faad77895796f0dc5",
            "7d84eb96bf464f0e83055c4eda4dc55b",
            "c0af9e36f6ce4df88b2c6b755d3c3dbf",
            "9adec7af42d54844b071226d3a84c250",
            "9088d20f48564137a516dd38299b1766",
            "e91430a58da041e195c9baef9e82f5a3",
            "0b2ed5200ca74191a288291e3ca83ecd",
            "3c39b059bb5f4bda8393e3da3d37f7e6",
            "9158cd29e7924102b8864a86ffaeb7f4",
            "6259b517ff4444c789e29f35df0608d9",
            "e5dae69f8be54287b9bd18cf89812e04",
            "8d2a5c7c0ec7433aa17b90ed21576bc6",
            "a0f715fa19074a418849b4712809baa6",
            "400c25b224dc4d01a0e68d9ac6a093c9",
            "9dc84f9917be4cdc9623f1abd4a5c8b0",
            "7ea1811af7e549ef8a4751328ff48beb",
            "d1dbc1cc96a6438790e1d638db6ce60c",
            "d63af0285a6b475ab47a409b7ff2e341",
            "73415c0ac3ba45fc94f040ada62d655f",
            "375a08ca48984bcb8dbf8ecbb91231cc",
            "e49867764940452d88625e507377128a",
            "719521b744d044afad324c4d0ef08e56",
            "8208ccf95526420d8f8394ff70c10491",
            "bfe51b88032b4e1ebbfedc295668be4e",
            "6cd22b3cef6f4fe79cedf63dc69c7b2c",
            "bfbb28f2d49a4eb5ba527f9f84aed0a2",
            "c9cede57c5e74bd3a15f5e8ef0f97f4c",
            "9753beac92734c7da86edb91157f65c1",
            "f1195e15f3a14dc99dc7456a573811b9",
            "e0e45494edd14594b55c50fa41320158",
            "072d3124b43640d986e862e3596a34c6",
            "8e0ef49e903e439596b92d5dce63eb10",
            "832ff9f72232423e87fa31c2e4df99af",
            "1fb4d339b5154ac7a53c69594ab8aee1",
            "fbb63853a6854281af141374c0e799a7",
            "922517d608334324a641959e0d8791f3",
            "5d20fab6041c4948b647f509f5513867",
            "6cfbe0d07f85464d8ab2ee9e96522b87",
            "6222b28aefce4289b2f29e3adbfd5e66",
            "c40670bca16544cab518cd84efe8d9a7",
            "1acab67481c54c22a802e45dbed5da74",
            "89ec696a4e8c40fc9379c0b2a6b08572",
            "c40716c5bdec4ce681343694330e34e9",
            "df6bcfe5d96a424395670086177d57ff",
            "39c2721c5eb645e2937136f71811e5c7",
            "9c6ecca646ed49f1b816244c8ad61731",
            "9ab7aa0f358e4d3cbe924731ba9dbb34",
            "7bec5cd48a734f42a8f186430ddebfd9",
            "3fde73c8466f48c5af37426cee397600",
            "9f12c60be2494478abf73f8750fe0570",
            "053d22ce79754409afd537edd5ace485",
            "de5f4cc2923b48d8808f8a5a057b3e3b",
            "567ad6be3ad540768a37b2e0226714aa",
            "6baa90ff41cd4fdb87ddc1ed8b7dcbca",
            "03d0123cb5ce4ad0ac0ff1be1cf708c5",
            "e2187b12ecb8440c825df5f71eb3b5fc",
            "efac5db315b04251872059c0d14d3dcb",
            "f0b081a2f4c74697a3fb703472e006e4"
          ]
        },
        "outputId": "24a19c2d-41f1-463b-a202-8870f617f2c2"
      },
      "execution_count": null,
      "outputs": [
        {
          "output_type": "stream",
          "name": "stdout",
          "text": [
            "Downloading and preparing dataset Unknown size (download: Unknown size, generated: Unknown size, total: Unknown size) to /root/tensorflow_datasets/cars196/2.1.0...\n"
          ]
        },
        {
          "output_type": "display_data",
          "data": {
            "text/plain": [
              "Dl Completed...: 0 url [00:00, ? url/s]"
            ],
            "application/vnd.jupyter.widget-view+json": {
              "version_major": 2,
              "version_minor": 0,
              "model_id": "1d9f3b659fdf46aeb1cea8a908ffe56c"
            }
          },
          "metadata": {}
        },
        {
          "output_type": "display_data",
          "data": {
            "text/plain": [
              "Dl Size...: 0 MiB [00:00, ? MiB/s]"
            ],
            "application/vnd.jupyter.widget-view+json": {
              "version_major": 2,
              "version_minor": 0,
              "model_id": "9adec7af42d54844b071226d3a84c250"
            }
          },
          "metadata": {}
        },
        {
          "output_type": "display_data",
          "data": {
            "text/plain": [
              "Extraction completed...: 0 file [00:00, ? file/s]"
            ],
            "application/vnd.jupyter.widget-view+json": {
              "version_major": 2,
              "version_minor": 0,
              "model_id": "9dc84f9917be4cdc9623f1abd4a5c8b0"
            }
          },
          "metadata": {}
        },
        {
          "output_type": "stream",
          "name": "stderr",
          "text": [
            "IOPub message rate exceeded.\n",
            "The notebook server will temporarily stop sending output\n",
            "to the client in order to avoid crashing it.\n",
            "To change this limit, set the config variable\n",
            "`--NotebookApp.iopub_msg_rate_limit`.\n",
            "\n",
            "Current values:\n",
            "NotebookApp.iopub_msg_rate_limit=1000.0 (msgs/sec)\n",
            "NotebookApp.rate_limit_window=3.0 (secs)\n",
            "\n"
          ]
        },
        {
          "output_type": "display_data",
          "data": {
            "text/plain": [
              "Shuffling /root/tensorflow_datasets/cars196/2.1.0.incompleteK33DIW/cars196-train.tfrecord*...:   0%|          …"
            ],
            "application/vnd.jupyter.widget-view+json": {
              "version_major": 2,
              "version_minor": 0,
              "model_id": "bfbb28f2d49a4eb5ba527f9f84aed0a2"
            }
          },
          "metadata": {}
        },
        {
          "output_type": "display_data",
          "data": {
            "text/plain": [
              "Generating test examples...: 0 examples [00:00, ? examples/s]"
            ],
            "application/vnd.jupyter.widget-view+json": {
              "version_major": 2,
              "version_minor": 0,
              "model_id": "5d20fab6041c4948b647f509f5513867"
            }
          },
          "metadata": {}
        },
        {
          "output_type": "display_data",
          "data": {
            "text/plain": [
              "Shuffling /root/tensorflow_datasets/cars196/2.1.0.incompleteK33DIW/cars196-test.tfrecord*...:   0%|          |…"
            ],
            "application/vnd.jupyter.widget-view+json": {
              "version_major": 2,
              "version_minor": 0,
              "model_id": "7bec5cd48a734f42a8f186430ddebfd9"
            }
          },
          "metadata": {}
        },
        {
          "output_type": "stream",
          "name": "stdout",
          "text": [
            "Dataset cars196 downloaded and prepared to /root/tensorflow_datasets/cars196/2.1.0. Subsequent calls will reuse this data.\n"
          ]
        }
      ]
    },
    {
      "cell_type": "code",
      "source": [
        "cars_train = cars_train.map(lambda x: (x['image'], x['label']))\n",
        "cars_test = cars_test.map(lambda x: (x['image'], x['label']))\n"
      ],
      "metadata": {
        "id": "iYz2BnLMf4cB",
        "colab": {
          "base_uri": "https://localhost:8080/"
        },
        "outputId": "2370bcaf-956f-4b56-ca10-bc4e36eab66f"
      },
      "execution_count": null,
      "outputs": [
        {
          "output_type": "stream",
          "name": "stderr",
          "text": [
            "WARNING:tensorflow:From /usr/local/lib/python3.9/dist-packages/tensorflow/python/autograph/pyct/static_analysis/liveness.py:83: Analyzer.lamba_check (from tensorflow.python.autograph.pyct.static_analysis.liveness) is deprecated and will be removed after 2023-09-23.\n",
            "Instructions for updating:\n",
            "Lambda fuctions will be no more assumed to be used in the statement where they are used, or at least in the same block. https://github.com/tensorflow/tensorflow/issues/56089\n"
          ]
        }
      ]
    },
    {
      "cell_type": "markdown",
      "metadata": {
        "id": "6LpjqcRTZ2gm"
      },
      "source": [
        "Dictionary of the labels - maps between the label (int) number and the vehicle model (str)"
      ]
    },
    {
      "cell_type": "code",
      "execution_count": null,
      "metadata": {
        "id": "wYeQz_hntvY2"
      },
      "outputs": [],
      "source": [
        "label_dic = pd.read_csv('/content/labels_dic.csv', header=None, dtype={0: str}).set_index(0).squeeze().to_dict()"
      ]
    },
    {
      "cell_type": "code",
      "source": [
        "print(label_dic)"
      ],
      "metadata": {
        "colab": {
          "base_uri": "https://localhost:8080/"
        },
        "id": "w5a0VctW9PSe",
        "outputId": "dcae6c94-af79-4051-a0e6-5dbaee7beb16"
      },
      "execution_count": null,
      "outputs": [
        {
          "output_type": "stream",
          "name": "stdout",
          "text": [
            "{nan: 'Cars Model', '0': 'AM General Hummer SUV 2000', '1': 'Acura RL Sedan 2012', '2': 'Acura TL Sedan 2012', '3': 'Acura TL Type-S 2008', '4': 'Acura TSX Sedan 2012', '5': 'Acura Integra Type R 2001', '6': 'Acura ZDX Hatchback 2012', '7': 'Aston Martin V8 Vantage Convertible 2012', '8': 'Aston Martin V8 Vantage Coupe 2012', '9': 'Aston Martin Virage Convertible 2012', '10': 'Aston Martin Virage Coupe 2012', '11': 'Audi RS 4 Convertible 2008', '12': 'Audi A5 Coupe 2012', '13': 'Audi TTS Coupe 2012', '14': 'Audi R8 Coupe 2012', '15': 'Audi V8 Sedan 1994', '16': 'Audi 100 Sedan 1994', '17': 'Audi 100 Wagon 1994', '18': 'Audi TT Hatchback 2011', '19': 'Audi S6 Sedan 2011', '20': 'Audi S5 Convertible 2012', '21': 'Audi S5 Coupe 2012', '22': 'Audi S4 Sedan 2012', '23': 'Audi S4 Sedan 2007', '24': 'Audi TT RS Coupe 2012', '25': 'BMW ActiveHybrid 5 Sedan 2012', '26': 'BMW 1 Series Convertible 2012', '27': 'BMW 1 Series Coupe 2012', '28': 'BMW 3 Series Sedan 2012', '29': 'BMW 3 Series Wagon 2012', '30': 'BMW 6 Series Convertible 2007', '31': 'BMW X5 SUV 2007', '32': 'BMW X6 SUV 2012', '33': 'BMW M3 Coupe 2012', '34': 'BMW M5 Sedan 2010', '35': 'BMW M6 Convertible 2010', '36': 'BMW X3 SUV 2012', '37': 'BMW Z4 Convertible 2012', '38': 'Bentley Continental Supersports Conv. Convertible 2012', '39': 'Bentley Arnage Sedan 2009', '40': 'Bentley Mulsanne Sedan 2011', '41': 'Bentley Continental GT Coupe 2012', '42': 'Bentley Continental GT Coupe 2007', '43': 'Bentley Continental Flying Spur Sedan 2007', '44': 'Bugatti Veyron 16.4 Convertible 2009', '45': 'Bugatti Veyron 16.4 Coupe 2009', '46': 'Buick Regal GS 2012', '47': 'Buick Rainier SUV 2007', '48': 'Buick Verano Sedan 2012', '49': 'Buick Enclave SUV 2012', '50': 'Cadillac CTS-V Sedan 2012', '51': 'Cadillac SRX SUV 2012', '52': 'Cadillac Escalade EXT Crew Cab 2007', '53': 'Chevrolet Silverado 1500 Hybrid Crew Cab 2012', '54': 'Chevrolet Corvette Convertible 2012', '55': 'Chevrolet Corvette ZR1 2012', '56': 'Chevrolet Corvette Ron Fellows Edition Z06 2007', '57': 'Chevrolet Traverse SUV 2012', '58': 'Chevrolet Camaro Convertible 2012', '59': 'Chevrolet HHR SS 2010', '60': 'Chevrolet Impala Sedan 2007', '61': 'Chevrolet Tahoe Hybrid SUV 2012', '62': 'Chevrolet Sonic Sedan 2012', '63': 'Chevrolet Express Cargo Van 2007', '64': 'Chevrolet Avalanche Crew Cab 2012', '65': 'Chevrolet Cobalt SS 2010', '66': 'Chevrolet Malibu Hybrid Sedan 2010', '67': 'Chevrolet TrailBlazer SS 2009', '68': 'Chevrolet Silverado 2500HD Regular Cab 2012', '69': 'Chevrolet Silverado 1500 Classic Extended Cab 2007', '70': 'Chevrolet Express Van 2007', '71': 'Chevrolet Monte Carlo Coupe 2007', '72': 'Chevrolet Malibu Sedan 2007', '73': 'Chevrolet Silverado 1500 Extended Cab 2012', '74': 'Chevrolet Silverado 1500 Regular Cab 2012', '75': 'Chrysler Aspen SUV 2009', '76': 'Chrysler Sebring Convertible 2010', '77': 'Chrysler Town and Country Minivan 2012', '78': 'Chrysler 300 SRT-8 2010', '79': 'Chrysler Crossfire Convertible 2008', '80': 'Chrysler PT Cruiser Convertible 2008', '81': 'Daewoo Nubira Wagon 2002', '82': 'Dodge Caliber Wagon 2012', '83': 'Dodge Caliber Wagon 2007', '84': 'Dodge Caravan Minivan 1997', '85': 'Dodge Ram Pickup 3500 Crew Cab 2010', '86': 'Dodge Ram Pickup 3500 Quad Cab 2009', '87': 'Dodge Sprinter Cargo Van 2009', '88': 'Dodge Journey SUV 2012', '89': 'Dodge Dakota Crew Cab 2010', '90': 'Dodge Dakota Club Cab 2007', '91': 'Dodge Magnum Wagon 2008', '92': 'Dodge Challenger SRT8 2011', '93': 'Dodge Durango SUV 2012', '94': 'Dodge Durango SUV 2007', '95': 'Dodge Charger Sedan 2012', '96': 'Dodge Charger SRT-8 2009', '97': 'Eagle Talon Hatchback 1998', '98': 'FIAT 500 Abarth 2012', '99': 'FIAT 500 Convertible 2012', '100': 'Ferrari FF Coupe 2012', '101': 'Ferrari California Convertible 2012', '102': 'Ferrari 458 Italia Convertible 2012', '103': 'Ferrari 458 Italia Coupe 2012', '104': 'Fisker Karma Sedan 2012', '105': 'Ford F-450 Super Duty Crew Cab 2012', '106': 'Ford Mustang Convertible 2007', '107': 'Ford Freestar Minivan 2007', '108': 'Ford Expedition EL SUV 2009', '109': 'Ford Edge SUV 2012', '110': 'Ford Ranger SuperCab 2011', '111': 'Ford GT Coupe 2006', '112': 'Ford F-150 Regular Cab 2012', '113': 'Ford F-150 Regular Cab 2007', '114': 'Ford Focus Sedan 2007', '115': 'Ford E-Series Wagon Van 2012', '116': 'Ford Fiesta Sedan 2012', '117': 'GMC Terrain SUV 2012', '118': 'GMC Savana Van 2012', '119': 'GMC Yukon Hybrid SUV 2012', '120': 'GMC Acadia SUV 2012', '121': 'GMC Canyon Extended Cab 2012', '122': 'Geo Metro Convertible 1993', '123': 'HUMMER H3T Crew Cab 2010', '124': 'HUMMER H2 SUT Crew Cab 2009', '125': 'Honda Odyssey Minivan 2012', '126': 'Honda Odyssey Minivan 2007', '127': 'Honda Accord Coupe 2012', '128': 'Honda Accord Sedan 2012', '129': 'Hyundai Veloster Hatchback 2012', '130': 'Hyundai Santa Fe SUV 2012', '131': 'Hyundai Tucson SUV 2012', '132': 'Hyundai Veracruz SUV 2012', '133': 'Hyundai Sonata Hybrid Sedan 2012', '134': 'Hyundai Elantra Sedan 2007', '135': 'Hyundai Accent Sedan 2012', '136': 'Hyundai Genesis Sedan 2012', '137': 'Hyundai Sonata Sedan 2012', '138': 'Hyundai Elantra Touring Hatchback 2012', '139': 'Hyundai Azera Sedan 2012', '140': 'Infiniti G Coupe IPL 2012', '141': 'Infiniti QX56 SUV 2011', '142': 'Isuzu Ascender SUV 2008', '143': 'Jaguar XK XKR 2012', '144': 'Jeep Patriot SUV 2012', '145': 'Jeep Wrangler SUV 2012', '146': 'Jeep Liberty SUV 2012', '147': 'Jeep Grand Cherokee SUV 2012', '148': 'Jeep Compass SUV 2012', '149': 'Lamborghini Reventon Coupe 2008', '150': 'Lamborghini Aventador Coupe 2012', '151': 'Lamborghini Gallardo LP 570-4 Superleggera 2012', '152': 'Lamborghini Diablo Coupe 2001', '153': 'Land Rover Range Rover SUV 2012', '154': 'Land Rover LR2 SUV 2012', '155': 'Lincoln Town Car Sedan 2011', '156': 'MINI Cooper Roadster Convertible 2012', '157': 'Maybach Landaulet Convertible 2012', '158': 'Mazda Tribute SUV 2011', '159': 'McLaren MP4-12C Coupe 2012', '160': 'Mercedes-Benz 300-Class Convertible 1993', '161': 'Mercedes-Benz C-Class Sedan 2012', '162': 'Mercedes-Benz SL-Class Coupe 2009', '163': 'Mercedes-Benz E-Class Sedan 2012', '164': 'Mercedes-Benz S-Class Sedan 2012', '165': 'Mercedes-Benz Sprinter Van 2012', '166': 'Mitsubishi Lancer Sedan 2012', '167': 'Nissan Leaf Hatchback 2012', '168': 'Nissan NV Passenger Van 2012', '169': 'Nissan Juke Hatchback 2012', '170': 'Nissan 240SX Coupe 1998', '171': 'Plymouth Neon Coupe 1999', '172': 'Porsche Panamera Sedan 2012', '173': 'Ram C/V Cargo Van Minivan 2012', '174': 'Rolls-Royce Phantom Drophead Coupe Convertible 2012', '175': 'Rolls-Royce Ghost Sedan 2012', '176': 'Rolls-Royce Phantom Sedan 2012', '177': 'Scion xD Hatchback 2012', '178': 'Spyker C8 Convertible 2009', '179': 'Spyker C8 Coupe 2009', '180': 'Suzuki Aerio Sedan 2007', '181': 'Suzuki Kizashi Sedan 2012', '182': 'Suzuki SX4 Hatchback 2012', '183': 'Suzuki SX4 Sedan 2012', '184': 'Tesla Model S Sedan 2012', '185': 'Toyota Sequoia SUV 2012', '186': 'Toyota Camry Sedan 2012', '187': 'Toyota Corolla Sedan 2012', '188': 'Toyota 4Runner SUV 2012', '189': 'Volkswagen Golf Hatchback 2012', '190': 'Volkswagen Golf Hatchback 1991', '191': 'Volkswagen Beetle Hatchback 2012', '192': 'Volvo C30 Hatchback 2012', '193': 'Volvo 240 Sedan 1993', '194': 'Volvo XC90 SUV 2007', '195': 'smart fortwo Convertible 2012'}\n"
          ]
        }
      ]
    },
    {
      "cell_type": "markdown",
      "metadata": {
        "id": "UxFQGdYzYffQ"
      },
      "source": [
        "### Function - Plot Single Example\n",
        "This function receives an image and a label and it will display it on a plot"
      ]
    },
    {
      "cell_type": "code",
      "execution_count": null,
      "metadata": {
        "id": "zHABcIRJZOTC"
      },
      "outputs": [],
      "source": [
        "def plot_single_example(image, label, label_dic=label_dic):\n",
        "  car_model_by_label = label_dic[str(label)]\n",
        "  plt.title(f'Image Label: {car_model_by_label} ({label})')\n",
        "  plt.imshow(image)"
      ]
    },
    {
      "cell_type": "markdown",
      "metadata": {
        "id": "5trNlNNHawd6"
      },
      "source": [
        "# Data Preprocessing"
      ]
    },
    {
      "cell_type": "markdown",
      "metadata": {
        "id": "t6hlzURV498F"
      },
      "source": [
        "### Split Dataset\n",
        "Train set contains 8041 examples<br>\n",
        "Test set contains 8144 examples<br>\n",
        "\n",
        "Changing the ratio between the train_set and the test_set \n",
        "\n",
        "Now: 12185 in the train_set and 4000 in the test_set\n"
      ]
    },
    {
      "cell_type": "code",
      "execution_count": null,
      "metadata": {
        "id": "tEozen1eqnsd",
        "colab": {
          "base_uri": "https://localhost:8080/"
        },
        "outputId": "ab1c016f-1527-4a6d-afea-d7e57551d1b6"
      },
      "outputs": [
        {
          "output_type": "stream",
          "name": "stdout",
          "text": [
            "12185\n",
            "4000\n"
          ]
        }
      ],
      "source": [
        "print(len(cars_train))\n",
        "print(len(cars_test))"
      ]
    },
    {
      "cell_type": "markdown",
      "metadata": {
        "id": "L28R-dvCy6gQ"
      },
      "source": [
        "###Resize all images to uniform size and cast to int"
      ]
    },
    {
      "cell_type": "code",
      "execution_count": null,
      "metadata": {
        "id": "OaPyw1K8PMl0"
      },
      "outputs": [],
      "source": [
        "def preprocess(image, label):\n",
        "    image = tf.image.resize(image, (224, 224)) \n",
        "    image = tf.image.random_flip_left_right(image)\n",
        "    image = tf.cast(image, tf.uint8)\n",
        "    return image, label\n",
        "\n",
        "cars_train = cars_train.map(preprocess).batch(16)\n",
        "cars_test = cars_test.map(preprocess).batch(16)"
      ]
    },
    {
      "cell_type": "markdown",
      "metadata": {
        "id": "DiXJ1wJCYtgj"
      },
      "source": [
        "### Example\n",
        "Random example from the data set"
      ]
    },
    {
      "cell_type": "code",
      "execution_count": null,
      "metadata": {
        "colab": {
          "base_uri": "https://localhost:8080/",
          "height": 281
        },
        "id": "ygZijXWwbL6w",
        "outputId": "d0dccb99-63f4-4e90-de0b-24b4d52afde2"
      },
      "outputs": [
        {
          "output_type": "display_data",
          "data": {
            "text/plain": [
              "<Figure size 432x288 with 1 Axes>"
            ],
            "image/png": "[encoded data removed]"
          },
          "metadata": {
            "needs_background": "light"
          }
        }
      ],
      "source": [
        "image, label = cars_train.as_numpy_iterator().next()\n",
        "\n",
        "\n",
        "plot_single_example(image, label)"
      ]
    },
    {
      "cell_type": "markdown",
      "metadata": {
        "id": "bwKEpPGAOkeG"
      },
      "source": [
        "#Ex_1"
      ]
    },
    {
      "cell_type": "code",
      "execution_count": null,
      "metadata": {
        "id": "OYZRPHcVG0w_"
      },
      "outputs": [],
      "source": [
        "base_model=MobileNet(weights='imagenet',include_top=False,input_shape=(224,224,3)) "
      ]
    },
    {
      "cell_type": "code",
      "execution_count": null,
      "metadata": {
        "id": "V5g1uXjSI9GV"
      },
      "outputs": [],
      "source": [
        "x=base_model.output\n",
        "x=GlobalAveragePooling2D()(x)\n",
        "preds=Dense(196,activation='softmax')(x) "
      ]
    },
    {
      "cell_type": "code",
      "execution_count": null,
      "metadata": {
        "id": "dxdn0KrCJkfw"
      },
      "outputs": [],
      "source": [
        "model=Model(inputs=base_model.input,outputs=preds)"
      ]
    },
    {
      "cell_type": "code",
      "execution_count": null,
      "metadata": {
        "id": "xyef9nRYJp_W"
      },
      "outputs": [],
      "source": [
        "for layer in model.layers[:-1]:\n",
        "    layer.trainable=False"
      ]
    },
    {
      "cell_type": "code",
      "execution_count": null,
      "metadata": {
        "id": "kWwP2d_IOSK5"
      },
      "outputs": [],
      "source": [
        "model.compile(optimizer=tf.keras.optimizers.SGD(learning_rate=0.1, momentum=0.9),\n",
        "              loss='sparse_categorical_crossentropy',\n",
        "              metrics=['accuracy'])"
      ]
    },
    {
      "cell_type": "code",
      "execution_count": null,
      "metadata": {
        "colab": {
          "base_uri": "https://localhost:8080/"
        },
        "id": "Xs05oM7ebrav",
        "outputId": "dd55a8d4-5ff2-4d85-d7e7-e8d5d1c89235"
      },
      "outputs": [
        {
          "output_type": "stream",
          "name": "stdout",
          "text": [
            "Epoch 1/5\n",
            "762/762 [==============================] - 33s 41ms/step - loss: 23.2095 - accuracy: 0.1643 - val_loss: 19.8222 - val_accuracy: 0.2470\n",
            "Epoch 2/5\n",
            "762/762 [==============================] - 34s 44ms/step - loss: 12.6060 - accuracy: 0.4224 - val_loss: 16.9518 - val_accuracy: 0.3343\n",
            "Epoch 3/5\n",
            "762/762 [==============================] - 31s 40ms/step - loss: 7.7384 - accuracy: 0.5773 - val_loss: 14.8138 - val_accuracy: 0.3812\n",
            "Epoch 4/5\n",
            "762/762 [==============================] - 33s 44ms/step - loss: 5.2722 - accuracy: 0.6652 - val_loss: 15.5475 - val_accuracy: 0.3783\n",
            "Epoch 5/5\n",
            "762/762 [==============================] - 31s 40ms/step - loss: 3.6489 - accuracy: 0.7303 - val_loss: 14.6355 - val_accuracy: 0.4110\n"
          ]
        }
      ],
      "source": [
        "history = model.fit(cars_train,validation_data=cars_test, epochs=5)"
      ]
    },
    {
      "cell_type": "markdown",
      "source": [
        "##EX_1 - Model performance"
      ],
      "metadata": {
        "id": "QZhKM42hbuJv"
      }
    },
    {
      "cell_type": "code",
      "execution_count": null,
      "metadata": {
        "colab": {
          "base_uri": "https://localhost:8080/",
          "height": 295
        },
        "id": "yS5KMCxeCfkh",
        "outputId": "d91ccdf8-c470-49ce-8b66-ee253f1e6edf"
      },
      "outputs": [
        {
          "output_type": "display_data",
          "data": {
            "text/plain": [
              "<Figure size 432x288 with 1 Axes>"
            ],
            "image/png": "[encoded data removed]"
          },
          "metadata": {
            "needs_background": "light"
          }
        }
      ],
      "source": [
        "from matplotlib import pyplot as plt\n",
        "plt.plot(history.history['loss'])\n",
        "plt.plot(history.history['val_loss'])\n",
        "plt.title('model loss')\n",
        "plt.ylabel('loss')\n",
        "plt.xlabel('epoch')\n",
        "plt.legend(['train', 'val'], loc='upper left')\n",
        "plt.show()"
      ]
    },
    {
      "cell_type": "code",
      "execution_count": null,
      "metadata": {
        "colab": {
          "base_uri": "https://localhost:8080/",
          "height": 295
        },
        "id": "Rsx-161XCpoY",
        "outputId": "55145813-9f2a-4bb4-b7f8-ae812faffebd"
      },
      "outputs": [
        {
          "output_type": "display_data",
          "data": {
            "text/plain": [
              "<Figure size 432x288 with 1 Axes>"
            ],
            "image/png": "[encoded data removed]"
          },
          "metadata": {
            "needs_background": "light"
          }
        }
      ],
      "source": [
        "plt.plot(history.history['accuracy'])\n",
        "plt.plot(history.history['val_accuracy'])\n",
        "plt.title('model accuracy')\n",
        "plt.ylabel('accuracy')\n",
        "plt.xlabel('epoch')\n",
        "plt.legend(['train', 'val'], loc='upper left')\n",
        "plt.show()"
      ]
    },
    {
      "cell_type": "code",
      "execution_count": null,
      "metadata": {
        "colab": {
          "base_uri": "https://localhost:8080/"
        },
        "id": "j-ow8dSsQN0g",
        "outputId": "41578b22-6b71-45a8-a9f7-cd39f8ea8c09"
      },
      "outputs": [
        {
          "output_type": "stream",
          "name": "stdout",
          "text": [
            "The model accuracy is: 41%\n"
          ]
        }
      ],
      "source": [
        "accuracy = round(history.history['val_accuracy'][-1], 2)\n",
        "print(f'The model accuracy is: {int(accuracy*100)}'+ '%')"
      ]
    },
    {
      "cell_type": "code",
      "execution_count": null,
      "metadata": {
        "colab": {
          "base_uri": "https://localhost:8080/"
        },
        "id": "eNJbB3bZDx30",
        "outputId": "6ad7769e-6303-429f-c1b5-eb146d65b761"
      },
      "outputs": [
        {
          "output_type": "stream",
          "name": "stdout",
          "text": [
            "loss : 3.65\n",
            "accuracy : 0.73\n",
            "val_loss : 14.64\n",
            "val_accuracy : 0.41\n"
          ]
        }
      ],
      "source": [
        "for key, val in history.history.items(): \n",
        "  print(f'{key} : {round(val[-1], 2)}')"
      ]
    },
    {
      "cell_type": "code",
      "source": [
        "from sklearn.metrics import precision_score, recall_score, f1_score\n",
        "\n",
        "# Predict classes for the test dataset\n",
        "y_pred = model.predict(cars_test).argmax(axis=1)\n",
        "print(y_pred)\n",
        "# Get true classes for the test dataset\n",
        "y_true = np.concatenate([y for x, y in cars_test], axis=0)\n",
        "print(y_true)\n",
        "# Compute precision, recall, and F1 score\n",
        "precision = precision_score(y_true, y_pred, average='weighted')\n",
        "recall = recall_score(y_true, y_pred, average='weighted')\n",
        "f1 = f1_score(y_true, y_pred, average='weighted')\n",
        "\n",
        "print(f'Precision: {precision:.2f}')\n",
        "print(f'Recall: {recall:.2f}')\n",
        "print(f'F1 score: {f1:.2f}')"
      ],
      "metadata": {
        "colab": {
          "base_uri": "https://localhost:8080/"
        },
        "id": "5NGBaj3hzdZ3",
        "outputId": "70978861-cf1d-49ac-a0ee-e90de706a35d"
      },
      "execution_count": null,
      "outputs": [
        {
          "output_type": "stream",
          "name": "stdout",
          "text": [
            "250/250 [==============================] - 10s 39ms/step\n",
            "[  5 103   4 ...  61 113 105]\n",
            "[158 101 134 ... 118 113 121]\n",
            "Precision: 0.58\n",
            "Recall: 0.41\n",
            "F1 score: 0.40\n"
          ]
        },
        {
          "output_type": "stream",
          "name": "stderr",
          "text": [
            "/usr/local/lib/python3.8/dist-packages/sklearn/metrics/_classification.py:1344: UndefinedMetricWarning: Precision is ill-defined and being set to 0.0 in labels with no predicted samples. Use `zero_division` parameter to control this behavior.\n",
            "  _warn_prf(average, modifier, msg_start, len(result))\n"
          ]
        }
      ]
    },
    {
      "cell_type": "markdown",
      "metadata": {
        "id": "LjfK-fKa6h8A"
      },
      "source": [
        "#EX_2"
      ]
    },
    {
      "cell_type": "code",
      "execution_count": null,
      "metadata": {
        "id": "T8yNlb-h6VRi"
      },
      "outputs": [],
      "source": [
        "x = base_model.output\n",
        "x = GlobalAveragePooling2D()(x)\n",
        "x = x = Dropout(0.5)(x)\n",
        "preds=Dense(196,activation='softmax')(x) "
      ]
    },
    {
      "cell_type": "code",
      "execution_count": null,
      "metadata": {
        "id": "vM3KLivB85UV"
      },
      "outputs": [],
      "source": [
        "model_2=Model(inputs=base_model.input,outputs=preds)\n",
        "for layer in model_2.layers[:-2]:\n",
        "    layer.trainable=False"
      ]
    },
    {
      "cell_type": "code",
      "execution_count": null,
      "metadata": {
        "id": "rClRUhV7RJug"
      },
      "outputs": [],
      "source": [
        "model_2.compile(optimizer='Adam',loss='sparse_categorical_crossentropy',metrics=['accuracy'])"
      ]
    },
    {
      "cell_type": "code",
      "execution_count": null,
      "metadata": {
        "colab": {
          "base_uri": "https://localhost:8080/"
        },
        "id": "84-xi4pX9C2g",
        "outputId": "05b34439-d562-44bb-dd44-d4295998947e"
      },
      "outputs": [
        {
          "output_type": "stream",
          "name": "stdout",
          "text": [
            "Epoch 1/5\n",
            "762/762 [==============================] - 36s 44ms/step - loss: 4.7618 - accuracy: 0.0908 - val_loss: 3.1012 - val_accuracy: 0.2780\n",
            "Epoch 2/5\n",
            "762/762 [==============================] - 31s 41ms/step - loss: 2.9858 - accuracy: 0.2934 - val_loss: 2.5053 - val_accuracy: 0.3950\n",
            "Epoch 3/5\n",
            "762/762 [==============================] - 31s 41ms/step - loss: 2.3642 - accuracy: 0.4147 - val_loss: 2.2254 - val_accuracy: 0.4495\n",
            "Epoch 4/5\n",
            "762/762 [==============================] - 30s 40ms/step - loss: 2.0334 - accuracy: 0.4755 - val_loss: 2.0444 - val_accuracy: 0.4915\n",
            "Epoch 5/5\n",
            "762/762 [==============================] - 31s 41ms/step - loss: 1.8156 - accuracy: 0.5296 - val_loss: 1.9970 - val_accuracy: 0.4922\n"
          ]
        }
      ],
      "source": [
        "history_2 = model_2.fit(cars_train,validation_data=cars_test, epochs=5)"
      ]
    },
    {
      "cell_type": "markdown",
      "source": [
        "##EX_2 - Model performance"
      ],
      "metadata": {
        "id": "PKXi4HvYc2HS"
      }
    },
    {
      "cell_type": "code",
      "execution_count": null,
      "metadata": {
        "colab": {
          "base_uri": "https://localhost:8080/",
          "height": 295
        },
        "id": "70inZZFiSqH_",
        "outputId": "64d2ee63-61bf-49f0-8d2d-f9ad2e648adc"
      },
      "outputs": [
        {
          "output_type": "display_data",
          "data": {
            "text/plain": [
              "<Figure size 432x288 with 1 Axes>"
            ],
            "image/png": "[encoded data removed]"
          },
          "metadata": {
            "needs_background": "light"
          }
        }
      ],
      "source": [
        "from matplotlib import pyplot as plt\n",
        "plt.plot(history_2.history['loss'])\n",
        "plt.plot(history_2.history['val_loss'])\n",
        "plt.title('model loss')\n",
        "plt.ylabel('loss')\n",
        "plt.xlabel('epoch')\n",
        "plt.legend(['train', 'val'], loc='upper left')\n",
        "plt.show()"
      ]
    },
    {
      "cell_type": "code",
      "execution_count": null,
      "metadata": {
        "colab": {
          "base_uri": "https://localhost:8080/",
          "height": 295
        },
        "id": "XypeyYt3SwrF",
        "outputId": "96cfbf2b-5aed-4441-811d-dbeed546c423"
      },
      "outputs": [
        {
          "output_type": "display_data",
          "data": {
            "text/plain": [
              "<Figure size 432x288 with 1 Axes>"
            ],
            "image/png": "[encoded data removed]"
          },
          "metadata": {
            "needs_background": "light"
          }
        }
      ],
      "source": [
        "plt.plot(history_2.history['accuracy'])\n",
        "plt.plot(history_2.history['val_accuracy'])\n",
        "plt.title('model accuracy')\n",
        "plt.ylabel('accuracy')\n",
        "plt.xlabel('epoch')\n",
        "plt.legend(['train', 'val'], loc='upper left')\n",
        "plt.show()"
      ]
    },
    {
      "cell_type": "code",
      "execution_count": null,
      "metadata": {
        "colab": {
          "base_uri": "https://localhost:8080/"
        },
        "id": "pPHEqHVyvr77",
        "outputId": "60b129e9-19a3-4cfb-eecc-a7a3a035b819"
      },
      "outputs": [
        {
          "output_type": "stream",
          "name": "stdout",
          "text": [
            "The model accuracy is: 49.0%\n"
          ]
        }
      ],
      "source": [
        "accuracy = round(history_2.history['val_accuracy'][-1], 2)\n",
        "print(f'The model accuracy is: {accuracy*100}'+ '%')"
      ]
    },
    {
      "cell_type": "code",
      "execution_count": null,
      "metadata": {
        "colab": {
          "base_uri": "https://localhost:8080/"
        },
        "id": "He_bVGcB89U7",
        "outputId": "fe3c4654-2deb-4026-9342-df5b8e2c1d9e"
      },
      "outputs": [
        {
          "output_type": "stream",
          "name": "stdout",
          "text": [
            "loss : 1.82\n",
            "accuracy : 0.53\n",
            "val_loss : 2.0\n",
            "val_accuracy : 0.49\n"
          ]
        }
      ],
      "source": [
        "for key, val in history_2.history.items(): \n",
        "  print(f'{key} : {round(val[-1], 2)}')"
      ]
    },
    {
      "cell_type": "code",
      "source": [
        "from sklearn.metrics import precision_score, recall_score, f1_score\n",
        "\n",
        "# Predict classes for the test dataset\n",
        "y_pred = model_2.predict(cars_test).argmax(axis=1)\n",
        "print(y_pred)\n",
        "# Get true classes for the test dataset\n",
        "y_true = np.concatenate([y for x, y in cars_test], axis=0)\n",
        "print(y_true)\n",
        "# Compute precision, recall, and F1 score\n",
        "precision = precision_score(y_true, y_pred, average='weighted')\n",
        "recall = recall_score(y_true, y_pred, average='weighted')\n",
        "f1 = f1_score(y_true, y_pred, average='weighted')\n",
        "\n",
        "print(f'Precision: {precision:.2f}')\n",
        "print(f'Recall: {recall:.2f}')\n",
        "print(f'F1 score: {f1:.2f}')"
      ],
      "metadata": {
        "colab": {
          "base_uri": "https://localhost:8080/"
        },
        "id": "Or-KX09py64P",
        "outputId": "67acdf2c-3f2b-4f85-9369-41103e63796e"
      },
      "execution_count": null,
      "outputs": [
        {
          "output_type": "stream",
          "name": "stdout",
          "text": [
            "250/250 [==============================] - 8s 31ms/step\n",
            "[180 103 134 ... 118 113  53]\n",
            "[158 101 134 ... 118 113 121]\n",
            "Precision: 0.62\n",
            "Recall: 0.49\n",
            "F1 score: 0.49\n"
          ]
        },
        {
          "output_type": "stream",
          "name": "stderr",
          "text": [
            "/usr/local/lib/python3.8/dist-packages/sklearn/metrics/_classification.py:1344: UndefinedMetricWarning: Precision is ill-defined and being set to 0.0 in labels with no predicted samples. Use `zero_division` parameter to control this behavior.\n",
            "  _warn_prf(average, modifier, msg_start, len(result))\n"
          ]
        }
      ]
    },
    {
      "cell_type": "markdown",
      "metadata": {
        "id": "CzKOv_dIS4dw"
      },
      "source": [
        "#Ex_3"
      ]
    },
    {
      "cell_type": "markdown",
      "source": [
        "tf.keras.applications.ResNet152V2"
      ],
      "metadata": {
        "id": "yzbIkSAYHxo8"
      }
    },
    {
      "cell_type": "code",
      "execution_count": null,
      "metadata": {
        "id": "MTyNe7nSmgNW",
        "colab": {
          "base_uri": "https://localhost:8080/"
        },
        "outputId": "13b437f4-f9d0-42d6-9368-814a2469fb12"
      },
      "outputs": [
        {
          "output_type": "stream",
          "name": "stdout",
          "text": [
            "Downloading data from https://storage.googleapis.com/tensorflow/keras-applications/efficientnet_v2/efficientnetv2-s_notop.h5\n",
            "82420632/82420632 [==============================] - 0s 0us/step\n"
          ]
        }
      ],
      "source": [
        "base_model_3 = tf.keras.applications.EfficientNetV2S(weights='imagenet',include_top=False,input_shape=(224,224,3)) "
      ]
    },
    {
      "cell_type": "code",
      "execution_count": null,
      "metadata": {
        "id": "SDUd1q508yRM"
      },
      "outputs": [],
      "source": [
        "model_3 = keras.Sequential([\n",
        "    base_model_3,\n",
        "    keras.layers.GlobalAveragePooling2D(),\n",
        "    keras.layers.Dropout(0.3),\n",
        "    keras.layers.Dense(196, activation='softmax')\n",
        "])"
      ]
    },
    {
      "cell_type": "code",
      "source": [
        "for layer in base_model_3.layers[:-7]:\n",
        "    layer.trainable = False\n",
        "\n",
        "for layer in base_model_3.layers[-7:]:\n",
        "    layer.trainable = True"
      ],
      "metadata": {
        "id": "CDTuDz3zSnmn"
      },
      "execution_count": null,
      "outputs": []
    },
    {
      "cell_type": "code",
      "execution_count": null,
      "metadata": {
        "id": "P6JglDHETDgk"
      },
      "outputs": [],
      "source": [
        "model_3.compile(optimizer='Adam',loss='sparse_categorical_crossentropy',metrics=['accuracy'])\n",
        "callback = callbacks.EarlyStopping(monitor='val_loss', patience=3)"
      ]
    },
    {
      "cell_type": "code",
      "execution_count": null,
      "metadata": {
        "colab": {
          "base_uri": "https://localhost:8080/"
        },
        "id": "W5maSnPeTGJR",
        "outputId": "8fa535b0-9b08-445a-a7b7-d72c25072d66"
      },
      "outputs": [
        {
          "output_type": "stream",
          "name": "stdout",
          "text": [
            "Epoch 1/20\n",
            "762/762 [==============================] - 49s 35ms/step - loss: 3.3610 - accuracy: 0.2158 - val_loss: 2.1674 - val_accuracy: 0.4268\n",
            "Epoch 2/20\n",
            "762/762 [==============================] - 24s 31ms/step - loss: 1.9431 - accuracy: 0.4926 - val_loss: 1.5640 - val_accuracy: 0.5780\n",
            "Epoch 3/20\n",
            "762/762 [==============================] - 25s 33ms/step - loss: 1.3769 - accuracy: 0.6295 - val_loss: 1.3110 - val_accuracy: 0.6335\n",
            "Epoch 4/20\n",
            "762/762 [==============================] - 24s 31ms/step - loss: 1.0647 - accuracy: 0.7154 - val_loss: 1.1613 - val_accuracy: 0.6712\n",
            "Epoch 5/20\n",
            "762/762 [==============================] - 24s 31ms/step - loss: 0.8450 - accuracy: 0.7751 - val_loss: 1.0752 - val_accuracy: 0.6975\n",
            "Epoch 6/20\n",
            "762/762 [==============================] - 24s 31ms/step - loss: 0.6940 - accuracy: 0.8128 - val_loss: 1.0301 - val_accuracy: 0.7092\n",
            "Epoch 7/20\n",
            "762/762 [==============================] - 23s 30ms/step - loss: 0.5864 - accuracy: 0.8391 - val_loss: 1.0516 - val_accuracy: 0.7122\n",
            "Epoch 8/20\n",
            "762/762 [==============================] - 24s 31ms/step - loss: 0.5062 - accuracy: 0.8616 - val_loss: 1.0233 - val_accuracy: 0.7168\n",
            "Epoch 9/20\n",
            "762/762 [==============================] - 24s 31ms/step - loss: 0.4593 - accuracy: 0.8739 - val_loss: 0.9944 - val_accuracy: 0.7287\n",
            "Epoch 10/20\n",
            "762/762 [==============================] - 24s 31ms/step - loss: 0.3935 - accuracy: 0.8916 - val_loss: 0.9948 - val_accuracy: 0.7308\n",
            "Epoch 11/20\n",
            "762/762 [==============================] - 24s 31ms/step - loss: 0.3567 - accuracy: 0.9005 - val_loss: 1.0261 - val_accuracy: 0.7230\n",
            "Epoch 12/20\n",
            "762/762 [==============================] - 23s 30ms/step - loss: 0.3188 - accuracy: 0.9123 - val_loss: 0.9887 - val_accuracy: 0.7362\n",
            "Epoch 13/20\n",
            "762/762 [==============================] - 23s 30ms/step - loss: 0.2975 - accuracy: 0.9153 - val_loss: 0.9829 - val_accuracy: 0.7308\n",
            "Epoch 14/20\n",
            "762/762 [==============================] - 24s 31ms/step - loss: 0.2681 - accuracy: 0.9290 - val_loss: 0.9834 - val_accuracy: 0.7402\n",
            "Epoch 15/20\n",
            "762/762 [==============================] - 24s 31ms/step - loss: 0.2573 - accuracy: 0.9274 - val_loss: 0.9903 - val_accuracy: 0.7335\n",
            "Epoch 16/20\n",
            "762/762 [==============================] - 24s 31ms/step - loss: 0.2328 - accuracy: 0.9339 - val_loss: 0.9674 - val_accuracy: 0.7420\n",
            "Epoch 17/20\n",
            "762/762 [==============================] - 24s 31ms/step - loss: 0.2076 - accuracy: 0.9434 - val_loss: 0.9851 - val_accuracy: 0.7442\n",
            "Epoch 18/20\n",
            "762/762 [==============================] - 24s 32ms/step - loss: 0.1942 - accuracy: 0.9455 - val_loss: 0.9726 - val_accuracy: 0.7498\n",
            "Epoch 19/20\n",
            "762/762 [==============================] - 24s 31ms/step - loss: 0.1966 - accuracy: 0.9453 - val_loss: 0.9817 - val_accuracy: 0.7500\n"
          ]
        }
      ],
      "source": [
        "history_3 = model_3.fit(cars_train,validation_data=cars_test,epochs=20, callbacks=[callback])"
      ]
    },
    {
      "cell_type": "markdown",
      "source": [
        "##EX_3 - Model performance"
      ],
      "metadata": {
        "id": "MJq0FT8Vc5LX"
      }
    },
    {
      "cell_type": "code",
      "source": [
        "from matplotlib import pyplot as plt\n",
        "plt.plot(history_3.history['loss'])\n",
        "plt.plot(history_3.history['val_loss'])\n",
        "plt.title('model loss')\n",
        "plt.ylabel('loss')\n",
        "plt.xlabel('epoch')\n",
        "plt.legend(['train', 'val'], loc='upper left')\n",
        "plt.show()"
      ],
      "metadata": {
        "colab": {
          "base_uri": "https://localhost:8080/",
          "height": 295
        },
        "id": "cdQK9H1sJPEP",
        "outputId": "78389b56-721d-4ef7-bbfa-029b149dffa5"
      },
      "execution_count": null,
      "outputs": [
        {
          "output_type": "display_data",
          "data": {
            "text/plain": [
              "<Figure size 432x288 with 1 Axes>"
            ],
            "image/png": "[encoded data removed]"
          },
          "metadata": {
            "needs_background": "light"
          }
        }
      ]
    },
    {
      "cell_type": "code",
      "source": [
        "plt.plot(history_3.history['accuracy'])\n",
        "plt.plot(history_3.history['val_accuracy'])\n",
        "plt.title('model accuracy')\n",
        "plt.ylabel('accuracy')\n",
        "plt.xlabel('epoch')\n",
        "plt.legend(['train', 'val'], loc='upper left')\n",
        "plt.show()"
      ],
      "metadata": {
        "colab": {
          "base_uri": "https://localhost:8080/",
          "height": 295
        },
        "id": "HTu0TGrPKQn8",
        "outputId": "6fc9abac-e8b5-4cbb-f407-df44d1c3b7a6"
      },
      "execution_count": null,
      "outputs": [
        {
          "output_type": "display_data",
          "data": {
            "text/plain": [
              "<Figure size 432x288 with 1 Axes>"
            ],
            "image/png": "[encoded data removed]"
          },
          "metadata": {
            "needs_background": "light"
          }
        }
      ]
    },
    {
      "cell_type": "code",
      "source": [
        "accuracy = round(history_3.history['val_accuracy'][-1], 2)\n",
        "print(f'The model accuracy is: {accuracy*100}'+ '%')"
      ],
      "metadata": {
        "colab": {
          "base_uri": "https://localhost:8080/"
        },
        "id": "BMH3zCGR-eGJ",
        "outputId": "369c29f1-0367-4181-c246-6a63c6b6facd"
      },
      "execution_count": null,
      "outputs": [
        {
          "output_type": "stream",
          "name": "stdout",
          "text": [
            "The model accuracy is: 75.0%\n"
          ]
        }
      ]
    },
    {
      "cell_type": "code",
      "source": [
        "for key, val in history_3.history.items(): \n",
        "  print(f'{key} : {round(val[-1], 2)}')"
      ],
      "metadata": {
        "colab": {
          "base_uri": "https://localhost:8080/"
        },
        "id": "u4H8FfoQ-iyW",
        "outputId": "183e7f3e-51bd-4e74-9ba3-16b79a875706"
      },
      "execution_count": null,
      "outputs": [
        {
          "output_type": "stream",
          "name": "stdout",
          "text": [
            "loss : 0.2\n",
            "accuracy : 0.95\n",
            "val_loss : 0.98\n",
            "val_accuracy : 0.75\n"
          ]
        }
      ]
    },
    {
      "cell_type": "code",
      "source": [
        "from sklearn.metrics import precision_score, recall_score, f1_score\n",
        "\n",
        "# Predict classes for the test dataset\n",
        "y_pred = model_3.predict(cars_test).argmax(axis=1)\n",
        "print(y_pred)\n",
        "\n",
        "# Get true classes for the test dataset\n",
        "y_true = np.concatenate([y for x, y in cars_test], axis=0)\n",
        "print(y_true)\n",
        "\n",
        "# Compute precision, recall, and F1 score\n",
        "precision = precision_score(y_true, y_pred, average='weighted')\n",
        "recall = recall_score(y_true, y_pred, average='weighted')\n",
        "f1 = f1_score(y_true, y_pred, average='weighted')\n",
        "\n",
        "print(f'Precision: {precision:.2f}')\n",
        "print(f'Recall: {recall:.2f}')\n",
        "print(f'F1 score: {f1:.2f}')"
      ],
      "metadata": {
        "colab": {
          "base_uri": "https://localhost:8080/"
        },
        "id": "Lpm76xsvtI0v",
        "outputId": "7dda065b-640d-48ba-cadc-cdc0d11d7400"
      },
      "execution_count": null,
      "outputs": [
        {
          "output_type": "stream",
          "name": "stdout",
          "text": [
            "250/250 [==============================] - 10s 30ms/step\n",
            "[ 62 101 136 ...  63 113 121]\n",
            "[158 101 134 ... 118 113 121]\n",
            "Precision: 0.77\n",
            "Recall: 0.74\n",
            "F1 score: 0.74\n"
          ]
        }
      ]
    },
    {
      "cell_type": "markdown",
      "source": [
        "##save the model"
      ],
      "metadata": {
        "id": "G89xBvMrCRJd"
      }
    },
    {
      "cell_type": "code",
      "source": [
        "%%script echo skipping\n",
        "from google.colab import drive\n",
        "drive.mount('/content/drive')"
      ],
      "metadata": {
        "colab": {
          "base_uri": "https://localhost:8080/"
        },
        "id": "pplWbKUvc_hz",
        "outputId": "bc35c3c1-5b16-478a-bc5d-0654b3e338ce"
      },
      "execution_count": null,
      "outputs": [
        {
          "output_type": "stream",
          "name": "stdout",
          "text": [
            "Mounted at /content/drive\n"
          ]
        }
      ]
    },
    {
      "cell_type": "code",
      "source": [
        "%%script echo skipping\n",
        "model_3.save('/content/Transfer_learning_Model.h5')"
      ],
      "metadata": {
        "id": "dMKofhXAdGuh"
      },
      "execution_count": null,
      "outputs": []
    },
    {
      "cell_type": "markdown",
      "source": [
        "##Test environment"
      ],
      "metadata": {
        "id": "dqxTr-cMCMFv"
      }
    },
    {
      "cell_type": "markdown",
      "source": [
        "To run this Test environment run \"import\" first in the top of this notebook"
      ],
      "metadata": {
        "id": "ie3sqAtAFaON"
      }
    },
    {
      "cell_type": "markdown",
      "source": [
        "##upload the model"
      ],
      "metadata": {
        "id": "b3W07mIECVzn"
      }
    },
    {
      "cell_type": "code",
      "source": [
        "best_model = tf.keras.models.load_model('/content/Transfer_learning_Model.h5')"
      ],
      "metadata": {
        "id": "JbNruCRAeSFi"
      },
      "execution_count": null,
      "outputs": []
    },
    {
      "cell_type": "code",
      "source": [
        "from google.colab import files\n",
        "from numpy import load as load_npy\n",
        "uploaded = files.upload()\n",
        "image_path = '/content/' + list(uploaded.keys())[0]"
      ],
      "metadata": {
        "colab": {
          "base_uri": "https://localhost:8080/",
          "height": 73
        },
        "id": "1OxIqXQh6PTG",
        "outputId": "1179d151-39a0-4b9e-a0f0-ba18c56288a9"
      },
      "execution_count": null,
      "outputs": [
        {
          "output_type": "display_data",
          "data": {
            "text/plain": [
              "<IPython.core.display.HTML object>"
            ],
            "text/html": [
              "\n",
              "     <input type=\"file\" id=\"files-4fac14ec-a6a2-4f7c-aff2-a8606659f190\" name=\"files[]\" multiple disabled\n",
              "        style=\"border:none\" />\n",
              "     <output id=\"result-4fac14ec-a6a2-4f7c-aff2-a8606659f190\">\n",
              "      Upload widget is only available when the cell has been executed in the\n",
              "      current browser session. Please rerun this cell to enable.\n",
              "      </output>\n",
              "      <script>// Copyright 2017 Google LLC\n",
              "//\n",
              "// Licensed under the Apache License, Version 2.0 (the \"License\");\n",
              "// you may not use this file except in compliance with the License.\n",
              "// You may obtain a copy of the License at\n",
              "//\n",
              "//      http://www.apache.org/licenses/LICENSE-2.0\n",
              "//\n",
              "// Unless required by applicable law or agreed to in writing, software\n",
              "// distributed under the License is distributed on an \"AS IS\" BASIS,\n",
              "// WITHOUT WARRANTIES OR CONDITIONS OF ANY KIND, either express or implied.\n",
              "// See the License for the specific language governing permissions and\n",
              "// limitations under the License.\n",
              "\n",
              "/**\n",
              " * @fileoverview Helpers for google.colab Python module.\n",
              " */\n",
              "(function(scope) {\n",
              "function span(text, styleAttributes = {}) {\n",
              "  const element = document.createElement('span');\n",
              "  element.textContent = text;\n",
              "  for (const key of Object.keys(styleAttributes)) {\n",
              "    element.style[key] = styleAttributes[key];\n",
              "  }\n",
              "  return element;\n",
              "}\n",
              "\n",
              "// Max number of bytes which will be uploaded at a time.\n",
              "const MAX_PAYLOAD_SIZE = 100 * 1024;\n",
              "\n",
              "function _uploadFiles(inputId, outputId) {\n",
              "  const steps = uploadFilesStep(inputId, outputId);\n",
              "  const outputElement = document.getElementById(outputId);\n",
              "  // Cache steps on the outputElement to make it available for the next call\n",
              "  // to uploadFilesContinue from Python.\n",
              "  outputElement.steps = steps;\n",
              "\n",
              "  return _uploadFilesContinue(outputId);\n",
              "}\n",
              "\n",
              "// This is roughly an async generator (not supported in the browser yet),\n",
              "// where there are multiple asynchronous steps and the Python side is going\n",
              "// to poll for completion of each step.\n",
              "// This uses a Promise to block the python side on completion of each step,\n",
              "// then passes the result of the previous step as the input to the next step.\n",
              "function _uploadFilesContinue(outputId) {\n",
              "  const outputElement = document.getElementById(outputId);\n",
              "  const steps = outputElement.steps;\n",
              "\n",
              "  const next = steps.next(outputElement.lastPromiseValue);\n",
              "  return Promise.resolve(next.value.promise).then((value) => {\n",
              "    // Cache the last promise value to make it available to the next\n",
              "    // step of the generator.\n",
              "    outputElement.lastPromiseValue = value;\n",
              "    return next.value.response;\n",
              "  });\n",
              "}\n",
              "\n",
              "/**\n",
              " * Generator function which is called between each async step of the upload\n",
              " * process.\n",
              " * @param {string} inputId Element ID of the input file picker element.\n",
              " * @param {string} outputId Element ID of the output display.\n",
              " * @return {!Iterable<!Object>} Iterable of next steps.\n",
              " */\n",
              "function* uploadFilesStep(inputId, outputId) {\n",
              "  const inputElement = document.getElementById(inputId);\n",
              "  inputElement.disabled = false;\n",
              "\n",
              "  const outputElement = document.getElementById(outputId);\n",
              "  outputElement.innerHTML = '';\n",
              "\n",
              "  const pickedPromise = new Promise((resolve) => {\n",
              "    inputElement.addEventListener('change', (e) => {\n",
              "      resolve(e.target.files);\n",
              "    });\n",
              "  });\n",
              "\n",
              "  const cancel = document.createElement('button');\n",
              "  inputElement.parentElement.appendChild(cancel);\n",
              "  cancel.textContent = 'Cancel upload';\n",
              "  const cancelPromise = new Promise((resolve) => {\n",
              "    cancel.onclick = () => {\n",
              "      resolve(null);\n",
              "    };\n",
              "  });\n",
              "\n",
              "  // Wait for the user to pick the files.\n",
              "  const files = yield {\n",
              "    promise: Promise.race([pickedPromise, cancelPromise]),\n",
              "    response: {\n",
              "      action: 'starting',\n",
              "    }\n",
              "  };\n",
              "\n",
              "  cancel.remove();\n",
              "\n",
              "  // Disable the input element since further picks are not allowed.\n",
              "  inputElement.disabled = true;\n",
              "\n",
              "  if (!files) {\n",
              "    return {\n",
              "      response: {\n",
              "        action: 'complete',\n",
              "      }\n",
              "    };\n",
              "  }\n",
              "\n",
              "  for (const file of files) {\n",
              "    const li = document.createElement('li');\n",
              "    li.append(span(file.name, {fontWeight: 'bold'}));\n",
              "    li.append(span(\n",
              "        `(${file.type || 'n/a'}) - ${file.size} bytes, ` +\n",
              "        `last modified: ${\n",
              "            file.lastModifiedDate ? file.lastModifiedDate.toLocaleDateString() :\n",
              "                                    'n/a'} - `));\n",
              "    const percent = span('0% done');\n",
              "    li.appendChild(percent);\n",
              "\n",
              "    outputElement.appendChild(li);\n",
              "\n",
              "    const fileDataPromise = new Promise((resolve) => {\n",
              "      const reader = new FileReader();\n",
              "      reader.onload = (e) => {\n",
              "        resolve(e.target.result);\n",
              "      };\n",
              "      reader.readAsArrayBuffer(file);\n",
              "    });\n",
              "    // Wait for the data to be ready.\n",
              "    let fileData = yield {\n",
              "      promise: fileDataPromise,\n",
              "      response: {\n",
              "        action: 'continue',\n",
              "      }\n",
              "    };\n",
              "\n",
              "    // Use a chunked sending to avoid message size limits. See b/62115660.\n",
              "    let position = 0;\n",
              "    do {\n",
              "      const length = Math.min(fileData.byteLength - position, MAX_PAYLOAD_SIZE);\n",
              "      const chunk = new Uint8Array(fileData, position, length);\n",
              "      position += length;\n",
              "\n",
              "      const base64 = btoa(String.fromCharCode.apply(null, chunk));\n",
              "      yield {\n",
              "        response: {\n",
              "          action: 'append',\n",
              "          file: file.name,\n",
              "          data: base64,\n",
              "        },\n",
              "      };\n",
              "\n",
              "      let percentDone = fileData.byteLength === 0 ?\n",
              "          100 :\n",
              "          Math.round((position / fileData.byteLength) * 100);\n",
              "      percent.textContent = `${percentDone}% done`;\n",
              "\n",
              "    } while (position < fileData.byteLength);\n",
              "  }\n",
              "\n",
              "  // All done.\n",
              "  yield {\n",
              "    response: {\n",
              "      action: 'complete',\n",
              "    }\n",
              "  };\n",
              "}\n",
              "\n",
              "scope.google = scope.google || {};\n",
              "scope.google.colab = scope.google.colab || {};\n",
              "scope.google.colab._files = {\n",
              "  _uploadFiles,\n",
              "  _uploadFilesContinue,\n",
              "};\n",
              "})(self);\n",
              "</script> "
            ]
          },
          "metadata": {}
        },
        {
          "output_type": "stream",
          "name": "stdout",
          "text": [
            "Saving Ferrari.png to Ferrari.png\n"
          ]
        }
      ]
    },
    {
      "cell_type": "code",
      "source": [
        "import matplotlib.pyplot as plt\n",
        "import numpy as np\n",
        "\n",
        "def prepare_image(img_path, show=False):\n",
        "    img = tf.keras.utils.load_img(img_path, target_size=(224, 224, 3))\n",
        "    img_tensor = tf.keras.utils.img_to_array(img) \n",
        "    img_tensor = np.expand_dims(img_tensor, axis=0) \n",
        "    img_tensor /= 255. \n",
        "\n",
        "    if show:\n",
        "        plt.imshow(img_tensor[0])                           \n",
        "        plt.axis('off')\n",
        "        plt.show()\n",
        "\n",
        "    return img_tensor"
      ],
      "metadata": {
        "id": "zoJpBmCP9a9E"
      },
      "execution_count": null,
      "outputs": []
    },
    {
      "cell_type": "code",
      "source": [
        "label_dic = pd.read_csv('/content/labels_dic.csv', header=None, dtype={0: str}).set_index(0).squeeze().to_dict()\n",
        "img = prepare_image(image_path, show=True)\n",
        "img *= 255.\n",
        "\n",
        "pred = best_model.predict(img)\n",
        "class_id = np.argmax(pred)\n",
        "print(class_id)\n",
        "print(label_dic[str(pred.argmax())])"
      ],
      "metadata": {
        "colab": {
          "base_uri": "https://localhost:8080/",
          "height": 303
        },
        "id": "6TU8KSTG8dMh",
        "outputId": "1323f902-165c-4bba-b5e3-8d087ba36eee"
      },
      "execution_count": null,
      "outputs": [
        {
          "output_type": "display_data",
          "data": {
            "text/plain": [
              "<Figure size 432x288 with 1 Axes>"
            ],
            "image/png": "[encoded data removed]"
          },
          "metadata": {
            "needs_background": "light"
          }
        },
        {
          "output_type": "stream",
          "name": "stdout",
          "text": [
            "1/1 [==============================] - 0s 51ms/step\n",
            "100\n",
            "Ferrari FF Coupe 2012\n"
          ]
        }
      ]
    }
  ],
  "metadata": {
    "accelerator": "GPU",
    "colab": {
      "machine_shape": "hm",
      "provenance": [],
      "include_colab_link": true
    },
    "gpuClass": "premium",
    "kernelspec": {
      "display_name": "Python 3",
      "name": "python3"
    },
    "language_info": {
      "name": "python"
    },
    "widgets": {
      "application/vnd.jupyter.widget-state+json": {
        "1d9f3b659fdf46aeb1cea8a908ffe56c": {
          "model_module": "@jupyter-widgets/controls",
          "model_name": "HBoxModel",
          "model_module_version": "1.5.0",
          "state": {
            "_dom_classes": [],
            "_model_module": "@jupyter-widgets/controls",
            "_model_module_version": "1.5.0",
            "_model_name": "HBoxModel",
            "_view_count": null,
            "_view_module": "@jupyter-widgets/controls",
            "_view_module_version": "1.5.0",
            "_view_name": "HBoxView",
            "box_style": "",
            "children": [
              "IPY_MODEL_853be28c36df41fe954b9c1686304712",
              "IPY_MODEL_115e500e51154f80ad438af7434ae9b5",
              "IPY_MODEL_ac3a9e154ef648aca5832ae6c6a7429c"
            ],
            "layout": "IPY_MODEL_98987b9067d948c7bd69364e31811515"
          }
        },
        "853be28c36df41fe954b9c1686304712": {
          "model_module": "@jupyter-widgets/controls",
          "model_name": "HTMLModel",
          "model_module_version": "1.5.0",
          "state": {
            "_dom_classes": [],
            "_model_module": "@jupyter-widgets/controls",
            "_model_module_version": "1.5.0",
            "_model_name": "HTMLModel",
            "_view_count": null,
            "_view_module": "@jupyter-widgets/controls",
            "_view_module_version": "1.5.0",
            "_view_name": "HTMLView",
            "description": "",
            "description_tooltip": null,
            "layout": "IPY_MODEL_8e15a21dad774595bf3973c847b01b22",
            "placeholder": "​",
            "style": "IPY_MODEL_375ba8434b4441e2a7279d5f7b7e18c5",
            "value": "Dl Completed...: 100%"
          }
        },
        "115e500e51154f80ad438af7434ae9b5": {
          "model_module": "@jupyter-widgets/controls",
          "model_name": "FloatProgressModel",
          "model_module_version": "1.5.0",
          "state": {
            "_dom_classes": [],
            "_model_module": "@jupyter-widgets/controls",
            "_model_module_version": "1.5.0",
            "_model_name": "FloatProgressModel",
            "_view_count": null,
            "_view_module": "@jupyter-widgets/controls",
            "_view_module_version": "1.5.0",
            "_view_name": "ProgressView",
            "bar_style": "info",
            "description": "",
            "description_tooltip": null,
            "layout": "IPY_MODEL_30ad80b1e73547f980a729289ef75430",
            "max": 1,
            "min": 0,
            "orientation": "horizontal",
            "style": "IPY_MODEL_abf7494feb9b443faad77895796f0dc5",
            "value": 1
          }
        },
        "ac3a9e154ef648aca5832ae6c6a7429c": {
          "model_module": "@jupyter-widgets/controls",
          "model_name": "HTMLModel",
          "model_module_version": "1.5.0",
          "state": {
            "_dom_classes": [],
            "_model_module": "@jupyter-widgets/controls",
            "_model_module_version": "1.5.0",
            "_model_name": "HTMLModel",
            "_view_count": null,
            "_view_module": "@jupyter-widgets/controls",
            "_view_module_version": "1.5.0",
            "_view_name": "HTMLView",
            "description": "",
            "description_tooltip": null,
            "layout": "IPY_MODEL_7d84eb96bf464f0e83055c4eda4dc55b",
            "placeholder": "​",
            "style": "IPY_MODEL_c0af9e36f6ce4df88b2c6b755d3c3dbf",
            "value": " 4/4 [01:20&lt;00:00, 16.49s/ url]"
          }
        },
        "98987b9067d948c7bd69364e31811515": {
          "model_module": "@jupyter-widgets/base",
          "model_name": "LayoutModel",
          "model_module_version": "1.2.0",
          "state": {
            "_model_module": "@jupyter-widgets/base",
            "_model_module_version": "1.2.0",
            "_model_name": "LayoutModel",
            "_view_count": null,
            "_view_module": "@jupyter-widgets/base",
            "_view_module_version": "1.2.0",
            "_view_name": "LayoutView",
            "align_content": null,
            "align_items": null,
            "align_self": null,
            "border": null,
            "bottom": null,
            "display": null,
            "flex": null,
            "flex_flow": null,
            "grid_area": null,
            "grid_auto_columns": null,
            "grid_auto_flow": null,
            "grid_auto_rows": null,
            "grid_column": null,
            "grid_gap": null,
            "grid_row": null,
            "grid_template_areas": null,
            "grid_template_columns": null,
            "grid_template_rows": null,
            "height": null,
            "justify_content": null,
            "justify_items": null,
            "left": null,
            "margin": null,
            "max_height": null,
            "max_width": null,
            "min_height": null,
            "min_width": null,
            "object_fit": null,
            "object_position": null,
            "order": null,
            "overflow": null,
            "overflow_x": null,
            "overflow_y": null,
            "padding": null,
            "right": null,
            "top": null,
            "visibility": null,
            "width": null
          }
        },
        "8e15a21dad774595bf3973c847b01b22": {
          "model_module": "@jupyter-widgets/base",
          "model_name": "LayoutModel",
          "model_module_version": "1.2.0",
          "state": {
            "_model_module": "@jupyter-widgets/base",
            "_model_module_version": "1.2.0",
            "_model_name": "LayoutModel",
            "_view_count": null,
            "_view_module": "@jupyter-widgets/base",
            "_view_module_version": "1.2.0",
            "_view_name": "LayoutView",
            "align_content": null,
            "align_items": null,
            "align_self": null,
            "border": null,
            "bottom": null,
            "display": null,
            "flex": null,
            "flex_flow": null,
            "grid_area": null,
            "grid_auto_columns": null,
            "grid_auto_flow": null,
            "grid_auto_rows": null,
            "grid_column": null,
            "grid_gap": null,
            "grid_row": null,
            "grid_template_areas": null,
            "grid_template_columns": null,
            "grid_template_rows": null,
            "height": null,
            "justify_content": null,
            "justify_items": null,
            "left": null,
            "margin": null,
            "max_height": null,
            "max_width": null,
            "min_height": null,
            "min_width": null,
            "object_fit": null,
            "object_position": null,
            "order": null,
            "overflow": null,
            "overflow_x": null,
            "overflow_y": null,
            "padding": null,
            "right": null,
            "top": null,
            "visibility": null,
            "width": null
          }
        },
        "375ba8434b4441e2a7279d5f7b7e18c5": {
          "model_module": "@jupyter-widgets/controls",
          "model_name": "DescriptionStyleModel",
          "model_module_version": "1.5.0",
          "state": {
            "_model_module": "@jupyter-widgets/controls",
            "_model_module_version": "1.5.0",
            "_model_name": "DescriptionStyleModel",
            "_view_count": null,
            "_view_module": "@jupyter-widgets/base",
            "_view_module_version": "1.2.0",
            "_view_name": "StyleView",
            "description_width": ""
          }
        },
        "30ad80b1e73547f980a729289ef75430": {
          "model_module": "@jupyter-widgets/base",
          "model_name": "LayoutModel",
          "model_module_version": "1.2.0",
          "state": {
            "_model_module": "@jupyter-widgets/base",
            "_model_module_version": "1.2.0",
            "_model_name": "LayoutModel",
            "_view_count": null,
            "_view_module": "@jupyter-widgets/base",
            "_view_module_version": "1.2.0",
            "_view_name": "LayoutView",
            "align_content": null,
            "align_items": null,
            "align_self": null,
            "border": null,
            "bottom": null,
            "display": null,
            "flex": null,
            "flex_flow": null,
            "grid_area": null,
            "grid_auto_columns": null,
            "grid_auto_flow": null,
            "grid_auto_rows": null,
            "grid_column": null,
            "grid_gap": null,
            "grid_row": null,
            "grid_template_areas": null,
            "grid_template_columns": null,
            "grid_template_rows": null,
            "height": null,
            "justify_content": null,
            "justify_items": null,
            "left": null,
            "margin": null,
            "max_height": null,
            "max_width": null,
            "min_height": null,
            "min_width": null,
            "object_fit": null,
            "object_position": null,
            "order": null,
            "overflow": null,
            "overflow_x": null,
            "overflow_y": null,
            "padding": null,
            "right": null,
            "top": null,
            "visibility": null,
            "width": "20px"
          }
        },
        "abf7494feb9b443faad77895796f0dc5": {
          "model_module": "@jupyter-widgets/controls",
          "model_name": "ProgressStyleModel",
          "model_module_version": "1.5.0",
          "state": {
            "_model_module": "@jupyter-widgets/controls",
            "_model_module_version": "1.5.0",
            "_model_name": "ProgressStyleModel",
            "_view_count": null,
            "_view_module": "@jupyter-widgets/base",
            "_view_module_version": "1.2.0",
            "_view_name": "StyleView",
            "bar_color": null,
            "description_width": ""
          }
        },
        "7d84eb96bf464f0e83055c4eda4dc55b": {
          "model_module": "@jupyter-widgets/base",
          "model_name": "LayoutModel",
          "model_module_version": "1.2.0",
          "state": {
            "_model_module": "@jupyter-widgets/base",
            "_model_module_version": "1.2.0",
            "_model_name": "LayoutModel",
            "_view_count": null,
            "_view_module": "@jupyter-widgets/base",
            "_view_module_version": "1.2.0",
            "_view_name": "LayoutView",
            "align_content": null,
            "align_items": null,
            "align_self": null,
            "border": null,
            "bottom": null,
            "display": null,
            "flex": null,
            "flex_flow": null,
            "grid_area": null,
            "grid_auto_columns": null,
            "grid_auto_flow": null,
            "grid_auto_rows": null,
            "grid_column": null,
            "grid_gap": null,
            "grid_row": null,
            "grid_template_areas": null,
            "grid_template_columns": null,
            "grid_template_rows": null,
            "height": null,
            "justify_content": null,
            "justify_items": null,
            "left": null,
            "margin": null,
            "max_height": null,
            "max_width": null,
            "min_height": null,
            "min_width": null,
            "object_fit": null,
            "object_position": null,
            "order": null,
            "overflow": null,
            "overflow_x": null,
            "overflow_y": null,
            "padding": null,
            "right": null,
            "top": null,
            "visibility": null,
            "width": null
          }
        },
        "c0af9e36f6ce4df88b2c6b755d3c3dbf": {
          "model_module": "@jupyter-widgets/controls",
          "model_name": "DescriptionStyleModel",
          "model_module_version": "1.5.0",
          "state": {
            "_model_module": "@jupyter-widgets/controls",
            "_model_module_version": "1.5.0",
            "_model_name": "DescriptionStyleModel",
            "_view_count": null,
            "_view_module": "@jupyter-widgets/base",
            "_view_module_version": "1.2.0",
            "_view_name": "StyleView",
            "description_width": ""
          }
        },
        "9adec7af42d54844b071226d3a84c250": {
          "model_module": "@jupyter-widgets/controls",
          "model_name": "HBoxModel",
          "model_module_version": "1.5.0",
          "state": {
            "_dom_classes": [],
            "_model_module": "@jupyter-widgets/controls",
            "_model_module_version": "1.5.0",
            "_model_name": "HBoxModel",
            "_view_count": null,
            "_view_module": "@jupyter-widgets/controls",
            "_view_module_version": "1.5.0",
            "_view_name": "HBoxView",
            "box_style": "",
            "children": [
              "IPY_MODEL_9088d20f48564137a516dd38299b1766",
              "IPY_MODEL_e91430a58da041e195c9baef9e82f5a3",
              "IPY_MODEL_0b2ed5200ca74191a288291e3ca83ecd"
            ],
            "layout": "IPY_MODEL_3c39b059bb5f4bda8393e3da3d37f7e6"
          }
        },
        "9088d20f48564137a516dd38299b1766": {
          "model_module": "@jupyter-widgets/controls",
          "model_name": "HTMLModel",
          "model_module_version": "1.5.0",
          "state": {
            "_dom_classes": [],
            "_model_module": "@jupyter-widgets/controls",
            "_model_module_version": "1.5.0",
            "_model_name": "HTMLModel",
            "_view_count": null,
            "_view_module": "@jupyter-widgets/controls",
            "_view_module_version": "1.5.0",
            "_view_name": "HTMLView",
            "description": "",
            "description_tooltip": null,
            "layout": "IPY_MODEL_9158cd29e7924102b8864a86ffaeb7f4",
            "placeholder": "​",
            "style": "IPY_MODEL_6259b517ff4444c789e29f35df0608d9",
            "value": "Dl Size...: 100%"
          }
        },
        "e91430a58da041e195c9baef9e82f5a3": {
          "model_module": "@jupyter-widgets/controls",
          "model_name": "FloatProgressModel",
          "model_module_version": "1.5.0",
          "state": {
            "_dom_classes": [],
            "_model_module": "@jupyter-widgets/controls",
            "_model_module_version": "1.5.0",
            "_model_name": "FloatProgressModel",
            "_view_count": null,
            "_view_module": "@jupyter-widgets/controls",
            "_view_module_version": "1.5.0",
            "_view_name": "ProgressView",
            "bar_style": "info",
            "description": "",
            "description_tooltip": null,
            "layout": "IPY_MODEL_e5dae69f8be54287b9bd18cf89812e04",
            "max": 1,
            "min": 0,
            "orientation": "horizontal",
            "style": "IPY_MODEL_8d2a5c7c0ec7433aa17b90ed21576bc6",
            "value": 1
          }
        },
        "0b2ed5200ca74191a288291e3ca83ecd": {
          "model_module": "@jupyter-widgets/controls",
          "model_name": "HTMLModel",
          "model_module_version": "1.5.0",
          "state": {
            "_dom_classes": [],
            "_model_module": "@jupyter-widgets/controls",
            "_model_module_version": "1.5.0",
            "_model_name": "HTMLModel",
            "_view_count": null,
            "_view_module": "@jupyter-widgets/controls",
            "_view_module_version": "1.5.0",
            "_view_name": "HTMLView",
            "description": "",
            "description_tooltip": null,
            "layout": "IPY_MODEL_a0f715fa19074a418849b4712809baa6",
            "placeholder": "​",
            "style": "IPY_MODEL_400c25b224dc4d01a0e68d9ac6a093c9",
            "value": " 1865/1865 [01:20&lt;00:00, 10.75 MiB/s]"
          }
        },
        "3c39b059bb5f4bda8393e3da3d37f7e6": {
          "model_module": "@jupyter-widgets/base",
          "model_name": "LayoutModel",
          "model_module_version": "1.2.0",
          "state": {
            "_model_module": "@jupyter-widgets/base",
            "_model_module_version": "1.2.0",
            "_model_name": "LayoutModel",
            "_view_count": null,
            "_view_module": "@jupyter-widgets/base",
            "_view_module_version": "1.2.0",
            "_view_name": "LayoutView",
            "align_content": null,
            "align_items": null,
            "align_self": null,
            "border": null,
            "bottom": null,
            "display": null,
            "flex": null,
            "flex_flow": null,
            "grid_area": null,
            "grid_auto_columns": null,
            "grid_auto_flow": null,
            "grid_auto_rows": null,
            "grid_column": null,
            "grid_gap": null,
            "grid_row": null,
            "grid_template_areas": null,
            "grid_template_columns": null,
            "grid_template_rows": null,
            "height": null,
            "justify_content": null,
            "justify_items": null,
            "left": null,
            "margin": null,
            "max_height": null,
            "max_width": null,
            "min_height": null,
            "min_width": null,
            "object_fit": null,
            "object_position": null,
            "order": null,
            "overflow": null,
            "overflow_x": null,
            "overflow_y": null,
            "padding": null,
            "right": null,
            "top": null,
            "visibility": null,
            "width": null
          }
        },
        "9158cd29e7924102b8864a86ffaeb7f4": {
          "model_module": "@jupyter-widgets/base",
          "model_name": "LayoutModel",
          "model_module_version": "1.2.0",
          "state": {
            "_model_module": "@jupyter-widgets/base",
            "_model_module_version": "1.2.0",
            "_model_name": "LayoutModel",
            "_view_count": null,
            "_view_module": "@jupyter-widgets/base",
            "_view_module_version": "1.2.0",
            "_view_name": "LayoutView",
            "align_content": null,
            "align_items": null,
            "align_self": null,
            "border": null,
            "bottom": null,
            "display": null,
            "flex": null,
            "flex_flow": null,
            "grid_area": null,
            "grid_auto_columns": null,
            "grid_auto_flow": null,
            "grid_auto_rows": null,
            "grid_column": null,
            "grid_gap": null,
            "grid_row": null,
            "grid_template_areas": null,
            "grid_template_columns": null,
            "grid_template_rows": null,
            "height": null,
            "justify_content": null,
            "justify_items": null,
            "left": null,
            "margin": null,
            "max_height": null,
            "max_width": null,
            "min_height": null,
            "min_width": null,
            "object_fit": null,
            "object_position": null,
            "order": null,
            "overflow": null,
            "overflow_x": null,
            "overflow_y": null,
            "padding": null,
            "right": null,
            "top": null,
            "visibility": null,
            "width": null
          }
        },
        "6259b517ff4444c789e29f35df0608d9": {
          "model_module": "@jupyter-widgets/controls",
          "model_name": "DescriptionStyleModel",
          "model_module_version": "1.5.0",
          "state": {
            "_model_module": "@jupyter-widgets/controls",
            "_model_module_version": "1.5.0",
            "_model_name": "DescriptionStyleModel",
            "_view_count": null,
            "_view_module": "@jupyter-widgets/base",
            "_view_module_version": "1.2.0",
            "_view_name": "StyleView",
            "description_width": ""
          }
        },
        "e5dae69f8be54287b9bd18cf89812e04": {
          "model_module": "@jupyter-widgets/base",
          "model_name": "LayoutModel",
          "model_module_version": "1.2.0",
          "state": {
            "_model_module": "@jupyter-widgets/base",
            "_model_module_version": "1.2.0",
            "_model_name": "LayoutModel",
            "_view_count": null,
            "_view_module": "@jupyter-widgets/base",
            "_view_module_version": "1.2.0",
            "_view_name": "LayoutView",
            "align_content": null,
            "align_items": null,
            "align_self": null,
            "border": null,
            "bottom": null,
            "display": null,
            "flex": null,
            "flex_flow": null,
            "grid_area": null,
            "grid_auto_columns": null,
            "grid_auto_flow": null,
            "grid_auto_rows": null,
            "grid_column": null,
            "grid_gap": null,
            "grid_row": null,
            "grid_template_areas": null,
            "grid_template_columns": null,
            "grid_template_rows": null,
            "height": null,
            "justify_content": null,
            "justify_items": null,
            "left": null,
            "margin": null,
            "max_height": null,
            "max_width": null,
            "min_height": null,
            "min_width": null,
            "object_fit": null,
            "object_position": null,
            "order": null,
            "overflow": null,
            "overflow_x": null,
            "overflow_y": null,
            "padding": null,
            "right": null,
            "top": null,
            "visibility": null,
            "width": "20px"
          }
        },
        "8d2a5c7c0ec7433aa17b90ed21576bc6": {
          "model_module": "@jupyter-widgets/controls",
          "model_name": "ProgressStyleModel",
          "model_module_version": "1.5.0",
          "state": {
            "_model_module": "@jupyter-widgets/controls",
            "_model_module_version": "1.5.0",
            "_model_name": "ProgressStyleModel",
            "_view_count": null,
            "_view_module": "@jupyter-widgets/base",
            "_view_module_version": "1.2.0",
            "_view_name": "StyleView",
            "bar_color": null,
            "description_width": ""
          }
        },
        "a0f715fa19074a418849b4712809baa6": {
          "model_module": "@jupyter-widgets/base",
          "model_name": "LayoutModel",
          "model_module_version": "1.2.0",
          "state": {
            "_model_module": "@jupyter-widgets/base",
            "_model_module_version": "1.2.0",
            "_model_name": "LayoutModel",
            "_view_count": null,
            "_view_module": "@jupyter-widgets/base",
            "_view_module_version": "1.2.0",
            "_view_name": "LayoutView",
            "align_content": null,
            "align_items": null,
            "align_self": null,
            "border": null,
            "bottom": null,
            "display": null,
            "flex": null,
            "flex_flow": null,
            "grid_area": null,
            "grid_auto_columns": null,
            "grid_auto_flow": null,
            "grid_auto_rows": null,
            "grid_column": null,
            "grid_gap": null,
            "grid_row": null,
            "grid_template_areas": null,
            "grid_template_columns": null,
            "grid_template_rows": null,
            "height": null,
            "justify_content": null,
            "justify_items": null,
            "left": null,
            "margin": null,
            "max_height": null,
            "max_width": null,
            "min_height": null,
            "min_width": null,
            "object_fit": null,
            "object_position": null,
            "order": null,
            "overflow": null,
            "overflow_x": null,
            "overflow_y": null,
            "padding": null,
            "right": null,
            "top": null,
            "visibility": null,
            "width": null
          }
        },
        "400c25b224dc4d01a0e68d9ac6a093c9": {
          "model_module": "@jupyter-widgets/controls",
          "model_name": "DescriptionStyleModel",
          "model_module_version": "1.5.0",
          "state": {
            "_model_module": "@jupyter-widgets/controls",
            "_model_module_version": "1.5.0",
            "_model_name": "DescriptionStyleModel",
            "_view_count": null,
            "_view_module": "@jupyter-widgets/base",
            "_view_module_version": "1.2.0",
            "_view_name": "StyleView",
            "description_width": ""
          }
        },
        "9dc84f9917be4cdc9623f1abd4a5c8b0": {
          "model_module": "@jupyter-widgets/controls",
          "model_name": "HBoxModel",
          "model_module_version": "1.5.0",
          "state": {
            "_dom_classes": [],
            "_model_module": "@jupyter-widgets/controls",
            "_model_module_version": "1.5.0",
            "_model_name": "HBoxModel",
            "_view_count": null,
            "_view_module": "@jupyter-widgets/controls",
            "_view_module_version": "1.5.0",
            "_view_name": "HBoxView",
            "box_style": "",
            "children": [
              "IPY_MODEL_7ea1811af7e549ef8a4751328ff48beb",
              "IPY_MODEL_d1dbc1cc96a6438790e1d638db6ce60c",
              "IPY_MODEL_d63af0285a6b475ab47a409b7ff2e341"
            ],
            "layout": "IPY_MODEL_73415c0ac3ba45fc94f040ada62d655f"
          }
        },
        "7ea1811af7e549ef8a4751328ff48beb": {
          "model_module": "@jupyter-widgets/controls",
          "model_name": "HTMLModel",
          "model_module_version": "1.5.0",
          "state": {
            "_dom_classes": [],
            "_model_module": "@jupyter-widgets/controls",
            "_model_module_version": "1.5.0",
            "_model_name": "HTMLModel",
            "_view_count": null,
            "_view_module": "@jupyter-widgets/controls",
            "_view_module_version": "1.5.0",
            "_view_name": "HTMLView",
            "description": "",
            "description_tooltip": null,
            "layout": "IPY_MODEL_375a08ca48984bcb8dbf8ecbb91231cc",
            "placeholder": "​",
            "style": "IPY_MODEL_e49867764940452d88625e507377128a",
            "value": "Extraction completed...:  88%"
          }
        },
        "d1dbc1cc96a6438790e1d638db6ce60c": {
          "model_module": "@jupyter-widgets/controls",
          "model_name": "FloatProgressModel",
          "model_module_version": "1.5.0",
          "state": {
            "_dom_classes": [],
            "_model_module": "@jupyter-widgets/controls",
            "_model_module_version": "1.5.0",
            "_model_name": "FloatProgressModel",
            "_view_count": null,
            "_view_module": "@jupyter-widgets/controls",
            "_view_module_version": "1.5.0",
            "_view_name": "ProgressView",
            "bar_style": "info",
            "description": "",
            "description_tooltip": null,
            "layout": "IPY_MODEL_719521b744d044afad324c4d0ef08e56",
            "max": 1,
            "min": 0,
            "orientation": "horizontal",
            "style": "IPY_MODEL_8208ccf95526420d8f8394ff70c10491",
            "value": 1
          }
        },
        "d63af0285a6b475ab47a409b7ff2e341": {
          "model_module": "@jupyter-widgets/controls",
          "model_name": "HTMLModel",
          "model_module_version": "1.5.0",
          "state": {
            "_dom_classes": [],
            "_model_module": "@jupyter-widgets/controls",
            "_model_module_version": "1.5.0",
            "_model_name": "HTMLModel",
            "_view_count": null,
            "_view_module": "@jupyter-widgets/controls",
            "_view_module_version": "1.5.0",
            "_view_name": "HTMLView",
            "description": "",
            "description_tooltip": null,
            "layout": "IPY_MODEL_bfe51b88032b4e1ebbfedc295668be4e",
            "placeholder": "​",
            "style": "IPY_MODEL_6cd22b3cef6f4fe79cedf63dc69c7b2c",
            "value": " 14328/16191 [01:22&lt;00:00, 1928.37 file/s]"
          }
        },
        "73415c0ac3ba45fc94f040ada62d655f": {
          "model_module": "@jupyter-widgets/base",
          "model_name": "LayoutModel",
          "model_module_version": "1.2.0",
          "state": {
            "_model_module": "@jupyter-widgets/base",
            "_model_module_version": "1.2.0",
            "_model_name": "LayoutModel",
            "_view_count": null,
            "_view_module": "@jupyter-widgets/base",
            "_view_module_version": "1.2.0",
            "_view_name": "LayoutView",
            "align_content": null,
            "align_items": null,
            "align_self": null,
            "border": null,
            "bottom": null,
            "display": null,
            "flex": null,
            "flex_flow": null,
            "grid_area": null,
            "grid_auto_columns": null,
            "grid_auto_flow": null,
            "grid_auto_rows": null,
            "grid_column": null,
            "grid_gap": null,
            "grid_row": null,
            "grid_template_areas": null,
            "grid_template_columns": null,
            "grid_template_rows": null,
            "height": null,
            "justify_content": null,
            "justify_items": null,
            "left": null,
            "margin": null,
            "max_height": null,
            "max_width": null,
            "min_height": null,
            "min_width": null,
            "object_fit": null,
            "object_position": null,
            "order": null,
            "overflow": null,
            "overflow_x": null,
            "overflow_y": null,
            "padding": null,
            "right": null,
            "top": null,
            "visibility": null,
            "width": null
          }
        },
        "375a08ca48984bcb8dbf8ecbb91231cc": {
          "model_module": "@jupyter-widgets/base",
          "model_name": "LayoutModel",
          "model_module_version": "1.2.0",
          "state": {
            "_model_module": "@jupyter-widgets/base",
            "_model_module_version": "1.2.0",
            "_model_name": "LayoutModel",
            "_view_count": null,
            "_view_module": "@jupyter-widgets/base",
            "_view_module_version": "1.2.0",
            "_view_name": "LayoutView",
            "align_content": null,
            "align_items": null,
            "align_self": null,
            "border": null,
            "bottom": null,
            "display": null,
            "flex": null,
            "flex_flow": null,
            "grid_area": null,
            "grid_auto_columns": null,
            "grid_auto_flow": null,
            "grid_auto_rows": null,
            "grid_column": null,
            "grid_gap": null,
            "grid_row": null,
            "grid_template_areas": null,
            "grid_template_columns": null,
            "grid_template_rows": null,
            "height": null,
            "justify_content": null,
            "justify_items": null,
            "left": null,
            "margin": null,
            "max_height": null,
            "max_width": null,
            "min_height": null,
            "min_width": null,
            "object_fit": null,
            "object_position": null,
            "order": null,
            "overflow": null,
            "overflow_x": null,
            "overflow_y": null,
            "padding": null,
            "right": null,
            "top": null,
            "visibility": null,
            "width": null
          }
        },
        "e49867764940452d88625e507377128a": {
          "model_module": "@jupyter-widgets/controls",
          "model_name": "DescriptionStyleModel",
          "model_module_version": "1.5.0",
          "state": {
            "_model_module": "@jupyter-widgets/controls",
            "_model_module_version": "1.5.0",
            "_model_name": "DescriptionStyleModel",
            "_view_count": null,
            "_view_module": "@jupyter-widgets/base",
            "_view_module_version": "1.2.0",
            "_view_name": "StyleView",
            "description_width": ""
          }
        },
        "719521b744d044afad324c4d0ef08e56": {
          "model_module": "@jupyter-widgets/base",
          "model_name": "LayoutModel",
          "model_module_version": "1.2.0",
          "state": {
            "_model_module": "@jupyter-widgets/base",
            "_model_module_version": "1.2.0",
            "_model_name": "LayoutModel",
            "_view_count": null,
            "_view_module": "@jupyter-widgets/base",
            "_view_module_version": "1.2.0",
            "_view_name": "LayoutView",
            "align_content": null,
            "align_items": null,
            "align_self": null,
            "border": null,
            "bottom": null,
            "display": null,
            "flex": null,
            "flex_flow": null,
            "grid_area": null,
            "grid_auto_columns": null,
            "grid_auto_flow": null,
            "grid_auto_rows": null,
            "grid_column": null,
            "grid_gap": null,
            "grid_row": null,
            "grid_template_areas": null,
            "grid_template_columns": null,
            "grid_template_rows": null,
            "height": null,
            "justify_content": null,
            "justify_items": null,
            "left": null,
            "margin": null,
            "max_height": null,
            "max_width": null,
            "min_height": null,
            "min_width": null,
            "object_fit": null,
            "object_position": null,
            "order": null,
            "overflow": null,
            "overflow_x": null,
            "overflow_y": null,
            "padding": null,
            "right": null,
            "top": null,
            "visibility": null,
            "width": "20px"
          }
        },
        "8208ccf95526420d8f8394ff70c10491": {
          "model_module": "@jupyter-widgets/controls",
          "model_name": "ProgressStyleModel",
          "model_module_version": "1.5.0",
          "state": {
            "_model_module": "@jupyter-widgets/controls",
            "_model_module_version": "1.5.0",
            "_model_name": "ProgressStyleModel",
            "_view_count": null,
            "_view_module": "@jupyter-widgets/base",
            "_view_module_version": "1.2.0",
            "_view_name": "StyleView",
            "bar_color": null,
            "description_width": ""
          }
        },
        "bfe51b88032b4e1ebbfedc295668be4e": {
          "model_module": "@jupyter-widgets/base",
          "model_name": "LayoutModel",
          "model_module_version": "1.2.0",
          "state": {
            "_model_module": "@jupyter-widgets/base",
            "_model_module_version": "1.2.0",
            "_model_name": "LayoutModel",
            "_view_count": null,
            "_view_module": "@jupyter-widgets/base",
            "_view_module_version": "1.2.0",
            "_view_name": "LayoutView",
            "align_content": null,
            "align_items": null,
            "align_self": null,
            "border": null,
            "bottom": null,
            "display": null,
            "flex": null,
            "flex_flow": null,
            "grid_area": null,
            "grid_auto_columns": null,
            "grid_auto_flow": null,
            "grid_auto_rows": null,
            "grid_column": null,
            "grid_gap": null,
            "grid_row": null,
            "grid_template_areas": null,
            "grid_template_columns": null,
            "grid_template_rows": null,
            "height": null,
            "justify_content": null,
            "justify_items": null,
            "left": null,
            "margin": null,
            "max_height": null,
            "max_width": null,
            "min_height": null,
            "min_width": null,
            "object_fit": null,
            "object_position": null,
            "order": null,
            "overflow": null,
            "overflow_x": null,
            "overflow_y": null,
            "padding": null,
            "right": null,
            "top": null,
            "visibility": null,
            "width": null
          }
        },
        "6cd22b3cef6f4fe79cedf63dc69c7b2c": {
          "model_module": "@jupyter-widgets/controls",
          "model_name": "DescriptionStyleModel",
          "model_module_version": "1.5.0",
          "state": {
            "_model_module": "@jupyter-widgets/controls",
            "_model_module_version": "1.5.0",
            "_model_name": "DescriptionStyleModel",
            "_view_count": null,
            "_view_module": "@jupyter-widgets/base",
            "_view_module_version": "1.2.0",
            "_view_name": "StyleView",
            "description_width": ""
          }
        },
        "bfbb28f2d49a4eb5ba527f9f84aed0a2": {
          "model_module": "@jupyter-widgets/controls",
          "model_name": "HBoxModel",
          "model_module_version": "1.5.0",
          "state": {
            "_dom_classes": [],
            "_model_module": "@jupyter-widgets/controls",
            "_model_module_version": "1.5.0",
            "_model_name": "HBoxModel",
            "_view_count": null,
            "_view_module": "@jupyter-widgets/controls",
            "_view_module_version": "1.5.0",
            "_view_name": "HBoxView",
            "box_style": "",
            "children": [
              "IPY_MODEL_c9cede57c5e74bd3a15f5e8ef0f97f4c",
              "IPY_MODEL_9753beac92734c7da86edb91157f65c1",
              "IPY_MODEL_f1195e15f3a14dc99dc7456a573811b9"
            ],
            "layout": "IPY_MODEL_e0e45494edd14594b55c50fa41320158"
          }
        },
        "c9cede57c5e74bd3a15f5e8ef0f97f4c": {
          "model_module": "@jupyter-widgets/controls",
          "model_name": "HTMLModel",
          "model_module_version": "1.5.0",
          "state": {
            "_dom_classes": [],
            "_model_module": "@jupyter-widgets/controls",
            "_model_module_version": "1.5.0",
            "_model_name": "HTMLModel",
            "_view_count": null,
            "_view_module": "@jupyter-widgets/controls",
            "_view_module_version": "1.5.0",
            "_view_name": "HTMLView",
            "description": "",
            "description_tooltip": null,
            "layout": "IPY_MODEL_072d3124b43640d986e862e3596a34c6",
            "placeholder": "​",
            "style": "IPY_MODEL_8e0ef49e903e439596b92d5dce63eb10",
            "value": "Shuffling /root/tensorflow_datasets/cars196/2.1.0.incompleteK33DIW/cars196-train.tfrecord*...:  91%"
          }
        },
        "9753beac92734c7da86edb91157f65c1": {
          "model_module": "@jupyter-widgets/controls",
          "model_name": "FloatProgressModel",
          "model_module_version": "1.5.0",
          "state": {
            "_dom_classes": [],
            "_model_module": "@jupyter-widgets/controls",
            "_model_module_version": "1.5.0",
            "_model_name": "FloatProgressModel",
            "_view_count": null,
            "_view_module": "@jupyter-widgets/controls",
            "_view_module_version": "1.5.0",
            "_view_name": "ProgressView",
            "bar_style": "",
            "description": "",
            "description_tooltip": null,
            "layout": "IPY_MODEL_832ff9f72232423e87fa31c2e4df99af",
            "max": 8144,
            "min": 0,
            "orientation": "horizontal",
            "style": "IPY_MODEL_1fb4d339b5154ac7a53c69594ab8aee1",
            "value": 8144
          }
        },
        "f1195e15f3a14dc99dc7456a573811b9": {
          "model_module": "@jupyter-widgets/controls",
          "model_name": "HTMLModel",
          "model_module_version": "1.5.0",
          "state": {
            "_dom_classes": [],
            "_model_module": "@jupyter-widgets/controls",
            "_model_module_version": "1.5.0",
            "_model_name": "HTMLModel",
            "_view_count": null,
            "_view_module": "@jupyter-widgets/controls",
            "_view_module_version": "1.5.0",
            "_view_name": "HTMLView",
            "description": "",
            "description_tooltip": null,
            "layout": "IPY_MODEL_fbb63853a6854281af141374c0e799a7",
            "placeholder": "​",
            "style": "IPY_MODEL_922517d608334324a641959e0d8791f3",
            "value": " 7421/8144 [00:00&lt;00:00, 9138.61 examples/s]"
          }
        },
        "e0e45494edd14594b55c50fa41320158": {
          "model_module": "@jupyter-widgets/base",
          "model_name": "LayoutModel",
          "model_module_version": "1.2.0",
          "state": {
            "_model_module": "@jupyter-widgets/base",
            "_model_module_version": "1.2.0",
            "_model_name": "LayoutModel",
            "_view_count": null,
            "_view_module": "@jupyter-widgets/base",
            "_view_module_version": "1.2.0",
            "_view_name": "LayoutView",
            "align_content": null,
            "align_items": null,
            "align_self": null,
            "border": null,
            "bottom": null,
            "display": null,
            "flex": null,
            "flex_flow": null,
            "grid_area": null,
            "grid_auto_columns": null,
            "grid_auto_flow": null,
            "grid_auto_rows": null,
            "grid_column": null,
            "grid_gap": null,
            "grid_row": null,
            "grid_template_areas": null,
            "grid_template_columns": null,
            "grid_template_rows": null,
            "height": null,
            "justify_content": null,
            "justify_items": null,
            "left": null,
            "margin": null,
            "max_height": null,
            "max_width": null,
            "min_height": null,
            "min_width": null,
            "object_fit": null,
            "object_position": null,
            "order": null,
            "overflow": null,
            "overflow_x": null,
            "overflow_y": null,
            "padding": null,
            "right": null,
            "top": null,
            "visibility": "hidden",
            "width": null
          }
        },
        "072d3124b43640d986e862e3596a34c6": {
          "model_module": "@jupyter-widgets/base",
          "model_name": "LayoutModel",
          "model_module_version": "1.2.0",
          "state": {
            "_model_module": "@jupyter-widgets/base",
            "_model_module_version": "1.2.0",
            "_model_name": "LayoutModel",
            "_view_count": null,
            "_view_module": "@jupyter-widgets/base",
            "_view_module_version": "1.2.0",
            "_view_name": "LayoutView",
            "align_content": null,
            "align_items": null,
            "align_self": null,
            "border": null,
            "bottom": null,
            "display": null,
            "flex": null,
            "flex_flow": null,
            "grid_area": null,
            "grid_auto_columns": null,
            "grid_auto_flow": null,
            "grid_auto_rows": null,
            "grid_column": null,
            "grid_gap": null,
            "grid_row": null,
            "grid_template_areas": null,
            "grid_template_columns": null,
            "grid_template_rows": null,
            "height": null,
            "justify_content": null,
            "justify_items": null,
            "left": null,
            "margin": null,
            "max_height": null,
            "max_width": null,
            "min_height": null,
            "min_width": null,
            "object_fit": null,
            "object_position": null,
            "order": null,
            "overflow": null,
            "overflow_x": null,
            "overflow_y": null,
            "padding": null,
            "right": null,
            "top": null,
            "visibility": null,
            "width": null
          }
        },
        "8e0ef49e903e439596b92d5dce63eb10": {
          "model_module": "@jupyter-widgets/controls",
          "model_name": "DescriptionStyleModel",
          "model_module_version": "1.5.0",
          "state": {
            "_model_module": "@jupyter-widgets/controls",
            "_model_module_version": "1.5.0",
            "_model_name": "DescriptionStyleModel",
            "_view_count": null,
            "_view_module": "@jupyter-widgets/base",
            "_view_module_version": "1.2.0",
            "_view_name": "StyleView",
            "description_width": ""
          }
        },
        "832ff9f72232423e87fa31c2e4df99af": {
          "model_module": "@jupyter-widgets/base",
          "model_name": "LayoutModel",
          "model_module_version": "1.2.0",
          "state": {
            "_model_module": "@jupyter-widgets/base",
            "_model_module_version": "1.2.0",
            "_model_name": "LayoutModel",
            "_view_count": null,
            "_view_module": "@jupyter-widgets/base",
            "_view_module_version": "1.2.0",
            "_view_name": "LayoutView",
            "align_content": null,
            "align_items": null,
            "align_self": null,
            "border": null,
            "bottom": null,
            "display": null,
            "flex": null,
            "flex_flow": null,
            "grid_area": null,
            "grid_auto_columns": null,
            "grid_auto_flow": null,
            "grid_auto_rows": null,
            "grid_column": null,
            "grid_gap": null,
            "grid_row": null,
            "grid_template_areas": null,
            "grid_template_columns": null,
            "grid_template_rows": null,
            "height": null,
            "justify_content": null,
            "justify_items": null,
            "left": null,
            "margin": null,
            "max_height": null,
            "max_width": null,
            "min_height": null,
            "min_width": null,
            "object_fit": null,
            "object_position": null,
            "order": null,
            "overflow": null,
            "overflow_x": null,
            "overflow_y": null,
            "padding": null,
            "right": null,
            "top": null,
            "visibility": null,
            "width": null
          }
        },
        "1fb4d339b5154ac7a53c69594ab8aee1": {
          "model_module": "@jupyter-widgets/controls",
          "model_name": "ProgressStyleModel",
          "model_module_version": "1.5.0",
          "state": {
            "_model_module": "@jupyter-widgets/controls",
            "_model_module_version": "1.5.0",
            "_model_name": "ProgressStyleModel",
            "_view_count": null,
            "_view_module": "@jupyter-widgets/base",
            "_view_module_version": "1.2.0",
            "_view_name": "StyleView",
            "bar_color": null,
            "description_width": ""
          }
        },
        "fbb63853a6854281af141374c0e799a7": {
          "model_module": "@jupyter-widgets/base",
          "model_name": "LayoutModel",
          "model_module_version": "1.2.0",
          "state": {
            "_model_module": "@jupyter-widgets/base",
            "_model_module_version": "1.2.0",
            "_model_name": "LayoutModel",
            "_view_count": null,
            "_view_module": "@jupyter-widgets/base",
            "_view_module_version": "1.2.0",
            "_view_name": "LayoutView",
            "align_content": null,
            "align_items": null,
            "align_self": null,
            "border": null,
            "bottom": null,
            "display": null,
            "flex": null,
            "flex_flow": null,
            "grid_area": null,
            "grid_auto_columns": null,
            "grid_auto_flow": null,
            "grid_auto_rows": null,
            "grid_column": null,
            "grid_gap": null,
            "grid_row": null,
            "grid_template_areas": null,
            "grid_template_columns": null,
            "grid_template_rows": null,
            "height": null,
            "justify_content": null,
            "justify_items": null,
            "left": null,
            "margin": null,
            "max_height": null,
            "max_width": null,
            "min_height": null,
            "min_width": null,
            "object_fit": null,
            "object_position": null,
            "order": null,
            "overflow": null,
            "overflow_x": null,
            "overflow_y": null,
            "padding": null,
            "right": null,
            "top": null,
            "visibility": null,
            "width": null
          }
        },
        "922517d608334324a641959e0d8791f3": {
          "model_module": "@jupyter-widgets/controls",
          "model_name": "DescriptionStyleModel",
          "model_module_version": "1.5.0",
          "state": {
            "_model_module": "@jupyter-widgets/controls",
            "_model_module_version": "1.5.0",
            "_model_name": "DescriptionStyleModel",
            "_view_count": null,
            "_view_module": "@jupyter-widgets/base",
            "_view_module_version": "1.2.0",
            "_view_name": "StyleView",
            "description_width": ""
          }
        },
        "5d20fab6041c4948b647f509f5513867": {
          "model_module": "@jupyter-widgets/controls",
          "model_name": "HBoxModel",
          "model_module_version": "1.5.0",
          "state": {
            "_dom_classes": [],
            "_model_module": "@jupyter-widgets/controls",
            "_model_module_version": "1.5.0",
            "_model_name": "HBoxModel",
            "_view_count": null,
            "_view_module": "@jupyter-widgets/controls",
            "_view_module_version": "1.5.0",
            "_view_name": "HBoxView",
            "box_style": "",
            "children": [
              "IPY_MODEL_6cfbe0d07f85464d8ab2ee9e96522b87",
              "IPY_MODEL_6222b28aefce4289b2f29e3adbfd5e66",
              "IPY_MODEL_c40670bca16544cab518cd84efe8d9a7"
            ],
            "layout": "IPY_MODEL_1acab67481c54c22a802e45dbed5da74"
          }
        },
        "6cfbe0d07f85464d8ab2ee9e96522b87": {
          "model_module": "@jupyter-widgets/controls",
          "model_name": "HTMLModel",
          "model_module_version": "1.5.0",
          "state": {
            "_dom_classes": [],
            "_model_module": "@jupyter-widgets/controls",
            "_model_module_version": "1.5.0",
            "_model_name": "HTMLModel",
            "_view_count": null,
            "_view_module": "@jupyter-widgets/controls",
            "_view_module_version": "1.5.0",
            "_view_name": "HTMLView",
            "description": "",
            "description_tooltip": null,
            "layout": "IPY_MODEL_89ec696a4e8c40fc9379c0b2a6b08572",
            "placeholder": "​",
            "style": "IPY_MODEL_c40716c5bdec4ce681343694330e34e9",
            "value": "Generating test examples...: "
          }
        },
        "6222b28aefce4289b2f29e3adbfd5e66": {
          "model_module": "@jupyter-widgets/controls",
          "model_name": "FloatProgressModel",
          "model_module_version": "1.5.0",
          "state": {
            "_dom_classes": [],
            "_model_module": "@jupyter-widgets/controls",
            "_model_module_version": "1.5.0",
            "_model_name": "FloatProgressModel",
            "_view_count": null,
            "_view_module": "@jupyter-widgets/controls",
            "_view_module_version": "1.5.0",
            "_view_name": "ProgressView",
            "bar_style": "info",
            "description": "",
            "description_tooltip": null,
            "layout": "IPY_MODEL_df6bcfe5d96a424395670086177d57ff",
            "max": 1,
            "min": 0,
            "orientation": "horizontal",
            "style": "IPY_MODEL_39c2721c5eb645e2937136f71811e5c7",
            "value": 1
          }
        },
        "c40670bca16544cab518cd84efe8d9a7": {
          "model_module": "@jupyter-widgets/controls",
          "model_name": "HTMLModel",
          "model_module_version": "1.5.0",
          "state": {
            "_dom_classes": [],
            "_model_module": "@jupyter-widgets/controls",
            "_model_module_version": "1.5.0",
            "_model_name": "HTMLModel",
            "_view_count": null,
            "_view_module": "@jupyter-widgets/controls",
            "_view_module_version": "1.5.0",
            "_view_name": "HTMLView",
            "description": "",
            "description_tooltip": null,
            "layout": "IPY_MODEL_9c6ecca646ed49f1b816244c8ad61731",
            "placeholder": "​",
            "style": "IPY_MODEL_9ab7aa0f358e4d3cbe924731ba9dbb34",
            "value": " 7968/? [00:05&lt;00:00, 2729.17 examples/s]"
          }
        },
        "1acab67481c54c22a802e45dbed5da74": {
          "model_module": "@jupyter-widgets/base",
          "model_name": "LayoutModel",
          "model_module_version": "1.2.0",
          "state": {
            "_model_module": "@jupyter-widgets/base",
            "_model_module_version": "1.2.0",
            "_model_name": "LayoutModel",
            "_view_count": null,
            "_view_module": "@jupyter-widgets/base",
            "_view_module_version": "1.2.0",
            "_view_name": "LayoutView",
            "align_content": null,
            "align_items": null,
            "align_self": null,
            "border": null,
            "bottom": null,
            "display": null,
            "flex": null,
            "flex_flow": null,
            "grid_area": null,
            "grid_auto_columns": null,
            "grid_auto_flow": null,
            "grid_auto_rows": null,
            "grid_column": null,
            "grid_gap": null,
            "grid_row": null,
            "grid_template_areas": null,
            "grid_template_columns": null,
            "grid_template_rows": null,
            "height": null,
            "justify_content": null,
            "justify_items": null,
            "left": null,
            "margin": null,
            "max_height": null,
            "max_width": null,
            "min_height": null,
            "min_width": null,
            "object_fit": null,
            "object_position": null,
            "order": null,
            "overflow": null,
            "overflow_x": null,
            "overflow_y": null,
            "padding": null,
            "right": null,
            "top": null,
            "visibility": "hidden",
            "width": null
          }
        },
        "89ec696a4e8c40fc9379c0b2a6b08572": {
          "model_module": "@jupyter-widgets/base",
          "model_name": "LayoutModel",
          "model_module_version": "1.2.0",
          "state": {
            "_model_module": "@jupyter-widgets/base",
            "_model_module_version": "1.2.0",
            "_model_name": "LayoutModel",
            "_view_count": null,
            "_view_module": "@jupyter-widgets/base",
            "_view_module_version": "1.2.0",
            "_view_name": "LayoutView",
            "align_content": null,
            "align_items": null,
            "align_self": null,
            "border": null,
            "bottom": null,
            "display": null,
            "flex": null,
            "flex_flow": null,
            "grid_area": null,
            "grid_auto_columns": null,
            "grid_auto_flow": null,
            "grid_auto_rows": null,
            "grid_column": null,
            "grid_gap": null,
            "grid_row": null,
            "grid_template_areas": null,
            "grid_template_columns": null,
            "grid_template_rows": null,
            "height": null,
            "justify_content": null,
            "justify_items": null,
            "left": null,
            "margin": null,
            "max_height": null,
            "max_width": null,
            "min_height": null,
            "min_width": null,
            "object_fit": null,
            "object_position": null,
            "order": null,
            "overflow": null,
            "overflow_x": null,
            "overflow_y": null,
            "padding": null,
            "right": null,
            "top": null,
            "visibility": null,
            "width": null
          }
        },
        "c40716c5bdec4ce681343694330e34e9": {
          "model_module": "@jupyter-widgets/controls",
          "model_name": "DescriptionStyleModel",
          "model_module_version": "1.5.0",
          "state": {
            "_model_module": "@jupyter-widgets/controls",
            "_model_module_version": "1.5.0",
            "_model_name": "DescriptionStyleModel",
            "_view_count": null,
            "_view_module": "@jupyter-widgets/base",
            "_view_module_version": "1.2.0",
            "_view_name": "StyleView",
            "description_width": ""
          }
        },
        "df6bcfe5d96a424395670086177d57ff": {
          "model_module": "@jupyter-widgets/base",
          "model_name": "LayoutModel",
          "model_module_version": "1.2.0",
          "state": {
            "_model_module": "@jupyter-widgets/base",
            "_model_module_version": "1.2.0",
            "_model_name": "LayoutModel",
            "_view_count": null,
            "_view_module": "@jupyter-widgets/base",
            "_view_module_version": "1.2.0",
            "_view_name": "LayoutView",
            "align_content": null,
            "align_items": null,
            "align_self": null,
            "border": null,
            "bottom": null,
            "display": null,
            "flex": null,
            "flex_flow": null,
            "grid_area": null,
            "grid_auto_columns": null,
            "grid_auto_flow": null,
            "grid_auto_rows": null,
            "grid_column": null,
            "grid_gap": null,
            "grid_row": null,
            "grid_template_areas": null,
            "grid_template_columns": null,
            "grid_template_rows": null,
            "height": null,
            "justify_content": null,
            "justify_items": null,
            "left": null,
            "margin": null,
            "max_height": null,
            "max_width": null,
            "min_height": null,
            "min_width": null,
            "object_fit": null,
            "object_position": null,
            "order": null,
            "overflow": null,
            "overflow_x": null,
            "overflow_y": null,
            "padding": null,
            "right": null,
            "top": null,
            "visibility": null,
            "width": "20px"
          }
        },
        "39c2721c5eb645e2937136f71811e5c7": {
          "model_module": "@jupyter-widgets/controls",
          "model_name": "ProgressStyleModel",
          "model_module_version": "1.5.0",
          "state": {
            "_model_module": "@jupyter-widgets/controls",
            "_model_module_version": "1.5.0",
            "_model_name": "ProgressStyleModel",
            "_view_count": null,
            "_view_module": "@jupyter-widgets/base",
            "_view_module_version": "1.2.0",
            "_view_name": "StyleView",
            "bar_color": null,
            "description_width": ""
          }
        },
        "9c6ecca646ed49f1b816244c8ad61731": {
          "model_module": "@jupyter-widgets/base",
          "model_name": "LayoutModel",
          "model_module_version": "1.2.0",
          "state": {
            "_model_module": "@jupyter-widgets/base",
            "_model_module_version": "1.2.0",
            "_model_name": "LayoutModel",
            "_view_count": null,
            "_view_module": "@jupyter-widgets/base",
            "_view_module_version": "1.2.0",
            "_view_name": "LayoutView",
            "align_content": null,
            "align_items": null,
            "align_self": null,
            "border": null,
            "bottom": null,
            "display": null,
            "flex": null,
            "flex_flow": null,
            "grid_area": null,
            "grid_auto_columns": null,
            "grid_auto_flow": null,
            "grid_auto_rows": null,
            "grid_column": null,
            "grid_gap": null,
            "grid_row": null,
            "grid_template_areas": null,
            "grid_template_columns": null,
            "grid_template_rows": null,
            "height": null,
            "justify_content": null,
            "justify_items": null,
            "left": null,
            "margin": null,
            "max_height": null,
            "max_width": null,
            "min_height": null,
            "min_width": null,
            "object_fit": null,
            "object_position": null,
            "order": null,
            "overflow": null,
            "overflow_x": null,
            "overflow_y": null,
            "padding": null,
            "right": null,
            "top": null,
            "visibility": null,
            "width": null
          }
        },
        "9ab7aa0f358e4d3cbe924731ba9dbb34": {
          "model_module": "@jupyter-widgets/controls",
          "model_name": "DescriptionStyleModel",
          "model_module_version": "1.5.0",
          "state": {
            "_model_module": "@jupyter-widgets/controls",
            "_model_module_version": "1.5.0",
            "_model_name": "DescriptionStyleModel",
            "_view_count": null,
            "_view_module": "@jupyter-widgets/base",
            "_view_module_version": "1.2.0",
            "_view_name": "StyleView",
            "description_width": ""
          }
        },
        "7bec5cd48a734f42a8f186430ddebfd9": {
          "model_module": "@jupyter-widgets/controls",
          "model_name": "HBoxModel",
          "model_module_version": "1.5.0",
          "state": {
            "_dom_classes": [],
            "_model_module": "@jupyter-widgets/controls",
            "_model_module_version": "1.5.0",
            "_model_name": "HBoxModel",
            "_view_count": null,
            "_view_module": "@jupyter-widgets/controls",
            "_view_module_version": "1.5.0",
            "_view_name": "HBoxView",
            "box_style": "",
            "children": [
              "IPY_MODEL_3fde73c8466f48c5af37426cee397600",
              "IPY_MODEL_9f12c60be2494478abf73f8750fe0570",
              "IPY_MODEL_053d22ce79754409afd537edd5ace485"
            ],
            "layout": "IPY_MODEL_de5f4cc2923b48d8808f8a5a057b3e3b"
          }
        },
        "3fde73c8466f48c5af37426cee397600": {
          "model_module": "@jupyter-widgets/controls",
          "model_name": "HTMLModel",
          "model_module_version": "1.5.0",
          "state": {
            "_dom_classes": [],
            "_model_module": "@jupyter-widgets/controls",
            "_model_module_version": "1.5.0",
            "_model_name": "HTMLModel",
            "_view_count": null,
            "_view_module": "@jupyter-widgets/controls",
            "_view_module_version": "1.5.0",
            "_view_name": "HTMLView",
            "description": "",
            "description_tooltip": null,
            "layout": "IPY_MODEL_567ad6be3ad540768a37b2e0226714aa",
            "placeholder": "​",
            "style": "IPY_MODEL_6baa90ff41cd4fdb87ddc1ed8b7dcbca",
            "value": "Shuffling /root/tensorflow_datasets/cars196/2.1.0.incompleteK33DIW/cars196-test.tfrecord*...:  99%"
          }
        },
        "9f12c60be2494478abf73f8750fe0570": {
          "model_module": "@jupyter-widgets/controls",
          "model_name": "FloatProgressModel",
          "model_module_version": "1.5.0",
          "state": {
            "_dom_classes": [],
            "_model_module": "@jupyter-widgets/controls",
            "_model_module_version": "1.5.0",
            "_model_name": "FloatProgressModel",
            "_view_count": null,
            "_view_module": "@jupyter-widgets/controls",
            "_view_module_version": "1.5.0",
            "_view_name": "ProgressView",
            "bar_style": "",
            "description": "",
            "description_tooltip": null,
            "layout": "IPY_MODEL_03d0123cb5ce4ad0ac0ff1be1cf708c5",
            "max": 8041,
            "min": 0,
            "orientation": "horizontal",
            "style": "IPY_MODEL_e2187b12ecb8440c825df5f71eb3b5fc",
            "value": 8041
          }
        },
        "053d22ce79754409afd537edd5ace485": {
          "model_module": "@jupyter-widgets/controls",
          "model_name": "HTMLModel",
          "model_module_version": "1.5.0",
          "state": {
            "_dom_classes": [],
            "_model_module": "@jupyter-widgets/controls",
            "_model_module_version": "1.5.0",
            "_model_name": "HTMLModel",
            "_view_count": null,
            "_view_module": "@jupyter-widgets/controls",
            "_view_module_version": "1.5.0",
            "_view_name": "HTMLView",
            "description": "",
            "description_tooltip": null,
            "layout": "IPY_MODEL_efac5db315b04251872059c0d14d3dcb",
            "placeholder": "​",
            "style": "IPY_MODEL_f0b081a2f4c74697a3fb703472e006e4",
            "value": " 7998/8041 [00:00&lt;00:00, 9065.56 examples/s]"
          }
        },
        "de5f4cc2923b48d8808f8a5a057b3e3b": {
          "model_module": "@jupyter-widgets/base",
          "model_name": "LayoutModel",
          "model_module_version": "1.2.0",
          "state": {
            "_model_module": "@jupyter-widgets/base",
            "_model_module_version": "1.2.0",
            "_model_name": "LayoutModel",
            "_view_count": null,
            "_view_module": "@jupyter-widgets/base",
            "_view_module_version": "1.2.0",
            "_view_name": "LayoutView",
            "align_content": null,
            "align_items": null,
            "align_self": null,
            "border": null,
            "bottom": null,
            "display": null,
            "flex": null,
            "flex_flow": null,
            "grid_area": null,
            "grid_auto_columns": null,
            "grid_auto_flow": null,
            "grid_auto_rows": null,
            "grid_column": null,
            "grid_gap": null,
            "grid_row": null,
            "grid_template_areas": null,
            "grid_template_columns": null,
            "grid_template_rows": null,
            "height": null,
            "justify_content": null,
            "justify_items": null,
            "left": null,
            "margin": null,
            "max_height": null,
            "max_width": null,
            "min_height": null,
            "min_width": null,
            "object_fit": null,
            "object_position": null,
            "order": null,
            "overflow": null,
            "overflow_x": null,
            "overflow_y": null,
            "padding": null,
            "right": null,
            "top": null,
            "visibility": "hidden",
            "width": null
          }
        },
        "567ad6be3ad540768a37b2e0226714aa": {
          "model_module": "@jupyter-widgets/base",
          "model_name": "LayoutModel",
          "model_module_version": "1.2.0",
          "state": {
            "_model_module": "@jupyter-widgets/base",
            "_model_module_version": "1.2.0",
            "_model_name": "LayoutModel",
            "_view_count": null,
            "_view_module": "@jupyter-widgets/base",
            "_view_module_version": "1.2.0",
            "_view_name": "LayoutView",
            "align_content": null,
            "align_items": null,
            "align_self": null,
            "border": null,
            "bottom": null,
            "display": null,
            "flex": null,
            "flex_flow": null,
            "grid_area": null,
            "grid_auto_columns": null,
            "grid_auto_flow": null,
            "grid_auto_rows": null,
            "grid_column": null,
            "grid_gap": null,
            "grid_row": null,
            "grid_template_areas": null,
            "grid_template_columns": null,
            "grid_template_rows": null,
            "height": null,
            "justify_content": null,
            "justify_items": null,
            "left": null,
            "margin": null,
            "max_height": null,
            "max_width": null,
            "min_height": null,
            "min_width": null,
            "object_fit": null,
            "object_position": null,
            "order": null,
            "overflow": null,
            "overflow_x": null,
            "overflow_y": null,
            "padding": null,
            "right": null,
            "top": null,
            "visibility": null,
            "width": null
          }
        },
        "6baa90ff41cd4fdb87ddc1ed8b7dcbca": {
          "model_module": "@jupyter-widgets/controls",
          "model_name": "DescriptionStyleModel",
          "model_module_version": "1.5.0",
          "state": {
            "_model_module": "@jupyter-widgets/controls",
            "_model_module_version": "1.5.0",
            "_model_name": "DescriptionStyleModel",
            "_view_count": null,
            "_view_module": "@jupyter-widgets/base",
            "_view_module_version": "1.2.0",
            "_view_name": "StyleView",
            "description_width": ""
          }
        },
        "03d0123cb5ce4ad0ac0ff1be1cf708c5": {
          "model_module": "@jupyter-widgets/base",
          "model_name": "LayoutModel",
          "model_module_version": "1.2.0",
          "state": {
            "_model_module": "@jupyter-widgets/base",
            "_model_module_version": "1.2.0",
            "_model_name": "LayoutModel",
            "_view_count": null,
            "_view_module": "@jupyter-widgets/base",
            "_view_module_version": "1.2.0",
            "_view_name": "LayoutView",
            "align_content": null,
            "align_items": null,
            "align_self": null,
            "border": null,
            "bottom": null,
            "display": null,
            "flex": null,
            "flex_flow": null,
            "grid_area": null,
            "grid_auto_columns": null,
            "grid_auto_flow": null,
            "grid_auto_rows": null,
            "grid_column": null,
            "grid_gap": null,
            "grid_row": null,
            "grid_template_areas": null,
            "grid_template_columns": null,
            "grid_template_rows": null,
            "height": null,
            "justify_content": null,
            "justify_items": null,
            "left": null,
            "margin": null,
            "max_height": null,
            "max_width": null,
            "min_height": null,
            "min_width": null,
            "object_fit": null,
            "object_position": null,
            "order": null,
            "overflow": null,
            "overflow_x": null,
            "overflow_y": null,
            "padding": null,
            "right": null,
            "top": null,
            "visibility": null,
            "width": null
          }
        },
        "e2187b12ecb8440c825df5f71eb3b5fc": {
          "model_module": "@jupyter-widgets/controls",
          "model_name": "ProgressStyleModel",
          "model_module_version": "1.5.0",
          "state": {
            "_model_module": "@jupyter-widgets/controls",
            "_model_module_version": "1.5.0",
            "_model_name": "ProgressStyleModel",
            "_view_count": null,
            "_view_module": "@jupyter-widgets/base",
            "_view_module_version": "1.2.0",
            "_view_name": "StyleView",
            "bar_color": null,
            "description_width": ""
          }
        },
        "efac5db315b04251872059c0d14d3dcb": {
          "model_module": "@jupyter-widgets/base",
          "model_name": "LayoutModel",
          "model_module_version": "1.2.0",
          "state": {
            "_model_module": "@jupyter-widgets/base",
            "_model_module_version": "1.2.0",
            "_model_name": "LayoutModel",
            "_view_count": null,
            "_view_module": "@jupyter-widgets/base",
            "_view_module_version": "1.2.0",
            "_view_name": "LayoutView",
            "align_content": null,
            "align_items": null,
            "align_self": null,
            "border": null,
            "bottom": null,
            "display": null,
            "flex": null,
            "flex_flow": null,
            "grid_area": null,
            "grid_auto_columns": null,
            "grid_auto_flow": null,
            "grid_auto_rows": null,
            "grid_column": null,
            "grid_gap": null,
            "grid_row": null,
            "grid_template_areas": null,
            "grid_template_columns": null,
            "grid_template_rows": null,
            "height": null,
            "justify_content": null,
            "justify_items": null,
            "left": null,
            "margin": null,
            "max_height": null,
            "max_width": null,
            "min_height": null,
            "min_width": null,
            "object_fit": null,
            "object_position": null,
            "order": null,
            "overflow": null,
            "overflow_x": null,
            "overflow_y": null,
            "padding": null,
            "right": null,
            "top": null,
            "visibility": null,
            "width": null
          }
        },
        "f0b081a2f4c74697a3fb703472e006e4": {
          "model_module": "@jupyter-widgets/controls",
          "model_name": "DescriptionStyleModel",
          "model_module_version": "1.5.0",
          "state": {
            "_model_module": "@jupyter-widgets/controls",
            "_model_module_version": "1.5.0",
            "_model_name": "DescriptionStyleModel",
            "_view_count": null,
            "_view_module": "@jupyter-widgets/base",
            "_view_module_version": "1.2.0",
            "_view_name": "StyleView",
            "description_width": ""
          }
        }
      }
    }
  },
  "nbformat": 4,
  "nbformat_minor": 0
}